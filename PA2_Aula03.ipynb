{
  "nbformat": 4,
  "nbformat_minor": 0,
  "metadata": {
    "colab": {
      "provenance": [],
      "collapsed_sections": []
    },
    "kernelspec": {
      "name": "python3",
      "display_name": "Python 3"
    },
    "language_info": {
      "name": "python"
    }
  },
  "cells": [
    {
      "cell_type": "markdown",
      "source": [
        "##**Programação e Algoritmos II**\n",
        "Prof. Alexandre Levada\n",
        "\n",
        "##**Algoritmos para ordenação de Dados**\n",
        "\n",
        "Ser capaz de ordenar os elementos de um conjunto de dados é uma das tarefas básicas mais requisitadas por aplicações computacionais.\n",
        "\n",
        "Um exemplo é justamente a Busca Binária, que requer um vetor ordenado para funcionar.\n",
        "\n",
        "**Algoritmo Bubblesort**\n",
        "\n",
        "O algoritmo Bubblesort é uma das abordagens mais simplistas para a ordenação de dados. A ideia básica consiste em percorrer o vetor diversas vezes, em cada passagem fazendo flutuar para o topo da lista (posição mais a direita possível) o maior elemento da sequência. Esse padrão de movimentação lembra a forma como as bolhas em um tanque procuram seu próprio nível, e disso vem o nome do algoritmo (também conhecido como o método bolha)\n",
        "\n",
        "Exemplo: mostre o passo a passo necessário para a ordenação do seguinte vetor\n",
        "\n",
        "[5, 2, 13, 7, -3, 4, 15, 10, 1, 6]\n",
        "\n",
        "Explicação em vídeo: https://www.youtube.com/watch?v=JyEZT-CdH8w&list=PL7OlISixQYm6lhuuNEadZ_ua4qCVl6zH7&index=9"
      ],
      "metadata": {
        "id": "nvO3qS7uOx_u"
      }
    },
    {
      "cell_type": "code",
      "execution_count": 2,
      "metadata": {
        "colab": {
          "base_uri": "https://localhost:8080/"
        },
        "id": "p09b4XGLOlXW",
        "outputId": "f174b69c-9d56-4f27-9ca1-373e79fea9a5"
      },
      "outputs": [
        {
          "output_type": "stream",
          "name": "stdout",
          "text": [
            "Vetor não ordenado: \n",
            "[0.7275905243766688, 0.8507849443030012, 0.3057154854662445, 0.8009694409484227, 0.07838799439481825, 0.37943262220719975, 0.6359752913730631, 0.7843319461102958, 0.8807771143222751, 0.4537145818025642, 0.6365482867728014, 0.2500403227699354, 0.4446494386902924, 0.6351455848701395, 0.5919231429398132, 0.941081595601543, 0.19122090536860692, 0.6556336934669141, 0.47390724826876574, 0.699961078620144, 0.9431511621798779, 0.3257968614240363, 0.804495947292104, 0.10597424062226934, 0.26538941450315445, 0.029214590831349363, 0.3195688591541641, 0.24468546376690237, 0.14096567059653142, 0.5833549350568997, 0.4914595924318268, 0.16364707120302835, 0.5465524162178478, 0.8015522832044133, 0.35034416010882474, 0.7280273058277416, 0.753246492240085, 0.07416576895077964, 0.3598183661045956, 0.03221083814632797, 0.4657416912031207, 0.08860024639924458, 0.2294966226144346, 0.5891244439467276, 0.305910543638478, 0.7294880322891912, 0.28045291908178627, 0.675834532590089, 0.0466381476507165, 0.9757708677578834, 0.7958199240137276, 0.33497763051249596, 0.23365714942880178, 0.1443515123195448, 0.4072788227224944, 0.8210099059457835, 0.88128992384446, 0.6116970147438934, 0.18960786315497258, 0.44500262301182847, 0.4591133933918957, 0.32565471307099325, 0.772671438557294, 0.9123649826343221, 0.3926779722566466, 0.024424453424989112, 0.8718264022573757, 0.5423068404276722, 0.13662267638757375, 0.4995572859512073, 0.7703028715769905, 0.7098465144551215, 0.05207635228357743, 0.8612419532309867, 0.1746217229749788, 0.3537470435300264, 0.7263203808234272, 0.9978738098823112, 0.6054347648093116, 0.09088131228426843, 0.3445721286666359, 0.9685640538236607, 0.08611583493131991, 0.11662628123752916, 0.1530798972135834, 0.3447783386054323, 0.9478424905719303, 0.9851353904699899, 0.2630660553118387, 0.8448715052507046, 0.6147681817397318, 0.2980980150158119, 0.710248692474599, 0.37103412635257305, 0.5388453110806813, 0.6208815005766655, 0.5900254940791894, 0.3906088524130489, 0.43001866972405434, 0.6871184397469732]\n",
            "\n",
            "Vetor ordenado: \n",
            "[0.024424453424989112, 0.029214590831349363, 0.03221083814632797, 0.0466381476507165, 0.05207635228357743, 0.07416576895077964, 0.07838799439481825, 0.08611583493131991, 0.08860024639924458, 0.09088131228426843, 0.10597424062226934, 0.11662628123752916, 0.13662267638757375, 0.14096567059653142, 0.1443515123195448, 0.1530798972135834, 0.16364707120302835, 0.1746217229749788, 0.18960786315497258, 0.19122090536860692, 0.2294966226144346, 0.23365714942880178, 0.24468546376690237, 0.2500403227699354, 0.2630660553118387, 0.26538941450315445, 0.28045291908178627, 0.2980980150158119, 0.3057154854662445, 0.305910543638478, 0.3195688591541641, 0.32565471307099325, 0.3257968614240363, 0.33497763051249596, 0.3445721286666359, 0.3447783386054323, 0.35034416010882474, 0.3537470435300264, 0.3598183661045956, 0.37103412635257305, 0.37943262220719975, 0.3906088524130489, 0.3926779722566466, 0.4072788227224944, 0.43001866972405434, 0.4446494386902924, 0.44500262301182847, 0.4537145818025642, 0.4591133933918957, 0.4657416912031207, 0.47390724826876574, 0.4914595924318268, 0.4995572859512073, 0.5388453110806813, 0.5423068404276722, 0.5465524162178478, 0.5833549350568997, 0.5891244439467276, 0.5900254940791894, 0.5919231429398132, 0.6054347648093116, 0.6116970147438934, 0.6147681817397318, 0.6208815005766655, 0.6351455848701395, 0.6359752913730631, 0.6365482867728014, 0.6556336934669141, 0.675834532590089, 0.6871184397469732, 0.699961078620144, 0.7098465144551215, 0.710248692474599, 0.7263203808234272, 0.7275905243766688, 0.7280273058277416, 0.7294880322891912, 0.753246492240085, 0.7703028715769905, 0.772671438557294, 0.7843319461102958, 0.7958199240137276, 0.8009694409484227, 0.8015522832044133, 0.804495947292104, 0.8210099059457835, 0.8448715052507046, 0.8507849443030012, 0.8612419532309867, 0.8718264022573757, 0.8807771143222751, 0.88128992384446, 0.9123649826343221, 0.941081595601543, 0.9431511621798779, 0.9478424905719303, 0.9685640538236607, 0.9757708677578834, 0.9851353904699899, 0.9978738098823112]\n",
            "\n",
            "Tempo de processamento: 0.002 s\n"
          ]
        }
      ],
      "source": [
        "import numpy as np\n",
        "import time\n",
        "\n",
        "# Implementação em Python do algoritmo de ordenação Bubblesort\n",
        "def BubbleSort(L):\n",
        "    # Percorre cada elemento da lista L\n",
        "    for i in range(len(L)-1, 0, -1):\n",
        "        # Flutua o maior elemento para a posição mais a direita\n",
        "        for j in range(i):\n",
        "            if L[j] > L[j+1]:\n",
        "                L[j], L[j+1] = L[j+1], L[j]\n",
        "\n",
        "# Início do script\n",
        "n = 100\n",
        "X = list(np.random.random(n))\n",
        "\n",
        "#X = [5, 2, 13, 7, -3, 4, 15, 10, 1, 6]\n",
        "\n",
        "# Imprime vetor\n",
        "print('Vetor não ordenado: ')\n",
        "print(X)\n",
        "print()\n",
        "\n",
        "# Aplica Bubblesort\n",
        "inicio = time.time()\n",
        "BubbleSort(X)\n",
        "fim = time.time()\n",
        "\n",
        "# Imprime vetor ordenado\n",
        "print('Vetor ordenado: ')\n",
        "print(X)\n",
        "print()\n",
        "print('Tempo de processamento: %.3f s' %(fim - inicio))"
      ]
    },
    {
      "cell_type": "markdown",
      "source": [
        "**Análise da complexidade do Bubblesort**\n",
        "\n",
        "1. Melhor caso: é possível realizar uma pequena modificação na função anterior."
      ],
      "metadata": {
        "id": "mHIoi-XphFWc"
      }
    },
    {
      "cell_type": "code",
      "source": [
        "def BubbleSort(L):\n",
        "    # Percorre cada elemento da lista L\n",
        "    trocas = 0\n",
        "    for i in range(len(L)-1, 0, -1):\n",
        "        # Flutua o maior elemento para a posição mais a direita\n",
        "        for j in range(i):\n",
        "            if L[j] > L[j+1]:\n",
        "                L[j], L[j+1] = L[j+1], L[j]\n",
        "                trocas = trocas + 1\n",
        "        if trocas == 0:\n",
        "          break"
      ],
      "metadata": {
        "id": "o1owUdLMhjyi"
      },
      "execution_count": null,
      "outputs": []
    },
    {
      "cell_type": "markdown",
      "source": [
        "Dessa forma, temos que no melhor caso (vetor ordenado), o for mais interno irá executar n - 1 vezes e o for mais externo apenas uma única vez, o que nos leva a $T(n) = n-1$, e portanto a complexidade $O(n)$. \n",
        "\n",
        "2. Pior caso\n",
        "\n",
        "Note que no pior caso o segundo loop vai de 0 a i, sendo que na primeira vez i = n – 1, na segunda vez i = n – 2 e até i = 0. Sendo assim, o número de operações é dado por:\n",
        "\n",
        "$$\n",
        "T(n) = ( (n – 1) + (n - 2) + … + 1 )\n",
        "$$\n",
        "\n",
        "Já vimos na aula anterior que o somatório 1 + 2 + … + n é igual a:\n",
        "\n",
        "$$\n",
        "T(n) = \\frac{n(n-1)}{2}\n",
        "$$\n",
        "\n",
        "o que nos leva a complexidade $O(n^2)$.\n",
        "\n",
        "3. Caso médio\n",
        "\n",
        "Precisamos calcular a média dos custos entre todos os casos possíveis. O primeiro caso (de menor custo) ocorre quando o laço mais externo realiza uma única iteração e o último caso (de maior custo) ocorre quando o laço externo realiza o número máximo de iterações, isto é, n-1 iterações. Como todos os casos são igualmente prováveis, o número de trocas no caso médio é dado por:\n",
        "\n",
        "$$\n",
        "T(n) = \\frac{1}{n-1}\\sum_{k=1}^{n-1}\\left( \\sum_{i=1}^{k} i \\right)\n",
        "$$\n",
        "\n",
        "Explicação em vídeo: https://www.youtube.com/watch?v=JyEZT-CdH8w&list=PL7OlISixQYm6lhuuNEadZ_ua4qCVl6zH7&index=9\n",
        "\n",
        "**Algoritmo Selectionsort**\n",
        "\n",
        "A ordenação por seleção é um método baseado em trocar o menor valor do vetor para a primeira posição mais a esquerda disponível, depois o de segundo menor valor para a segunda posição e assim sucessivamente, com os n – 1 elementos restantes. Esse algoritmo compara a cada iteração um elemento com os demais, visando encontrar o menor. A complexidade desse algoritmo será sempre de ordem quadrática, isto é o número de operações realizadas depende do quadrado do tamanho do vetor de entrada.  Algumas vantagens desse método são: é um algoritmo simples de ser implementado, não usa um vetor auxiliar e portanto ocupa pouca memória, é um dos mais velozes para vetores pequenos. Como desvantagens podemos citar o fato de que ele não é muito eficiente para grandes vetores.\n",
        "\n",
        "Exemplo: mostre os passos necessários para a ordenação do seguinte vetor\n",
        "\n",
        "[5, 2, 13, 7, -3, 4, 15, 10, 1, 6]\n",
        "\n",
        "Explicação em vídeo: https://www.youtube.com/watch?v=-fv_XGPfkgU&list=PL7OlISixQYm6lhuuNEadZ_ua4qCVl6zH7&index=10\n"
      ],
      "metadata": {
        "id": "0qTbgZF-hyfl"
      }
    },
    {
      "cell_type": "code",
      "source": [
        "import numpy as np\n",
        "import time\n",
        "\n",
        "# Implementação em Python do algoritmo de ordenação Selectionsort\n",
        "def SelectionSort(L):\n",
        "    # Percorre todos os elementos de L\n",
        "    for i in range(len(L)):\n",
        "        menor = i\n",
        "        # Encontra o menor elemento\n",
        "        for k in range(i+1, len(L)):\n",
        "            if L[k] < L[menor]:\n",
        "                menor = k \n",
        "        # Troca a posição do elemento i com o menor\n",
        "        L[menor], L[i] = L[i], L[menor]\n",
        "\n",
        "# Início do script\n",
        "n = 100\n",
        "X = list(np.random.random(n))\n",
        "\n",
        "#X = [5, 2, 13, 7, -3, 4, 15, 10, 1, 6]\n",
        "\n",
        "# Imprime vetor\n",
        "print('Vetor não ordenado: ')\n",
        "print(X)\n",
        "print()\n",
        "\n",
        "# Aplica Bubblesort\n",
        "inicio = time.time()\n",
        "SelectionSort(X)\n",
        "fim = time.time()\n",
        "\n",
        "# Imprime vetor ordenado\n",
        "print('Vetor ordenado: ')\n",
        "print(X)\n",
        "print()\n",
        "print('Tempo de processamento: %.3f s' %(fim - inicio))"
      ],
      "metadata": {
        "colab": {
          "base_uri": "https://localhost:8080/"
        },
        "id": "erQyoW2y_yyq",
        "outputId": "3f3ad88c-78d2-42ba-fec6-e9313d5742aa"
      },
      "execution_count": 3,
      "outputs": [
        {
          "output_type": "stream",
          "name": "stdout",
          "text": [
            "Vetor não ordenado: \n",
            "[0.5482573361182351, 0.5637578975489441, 0.8780632130694053, 0.29303980197431223, 0.709406672256971, 0.9156308064076711, 0.6394403713250473, 0.5064167441377128, 0.24959036827969672, 0.309918144863469, 0.2770107982401787, 0.9744456698471703, 0.48448052366482686, 0.8282592491807466, 0.5219004472859944, 0.40088944077322397, 0.8401338501611824, 0.09923835709647477, 0.35775961126854416, 0.8662871322673503, 0.3641872624623559, 0.6420965146531493, 0.9085153549261777, 0.580620193572199, 0.06681379520746333, 0.004039433374338763, 0.37211228037455923, 0.29447389558432047, 0.7787267501491865, 0.5449574983992107, 0.6397566720395645, 0.6585541826967629, 0.18608432973052025, 0.051305046960893885, 0.19582842508558673, 0.08785783023281324, 0.5556586075128952, 0.4751337547241995, 0.202205394499271, 0.5431757759538026, 0.2546485350557558, 0.2243640177064674, 0.10350574336692964, 0.5652131892830888, 0.24838738761244805, 0.46943080733219367, 0.49881134437121943, 0.7292717941871318, 0.1336374479544642, 0.9321117685183158, 0.9257762872466507, 0.8458177363284829, 0.05416047496722287, 0.03252091590403161, 0.9952419126085321, 0.6232926526214856, 0.342455145898655, 0.13478620455462864, 0.6908880420286131, 0.16195850657681232, 0.3654825969455454, 0.057918908282517445, 0.12120429231853302, 0.8531322385036761, 0.7772231216009784, 0.1395347124918076, 0.22797951867775357, 0.6881794905021194, 0.9869826802802538, 0.6989944337206823, 0.5021161138598974, 0.452614804487646, 0.6430322743183563, 0.35756996803315444, 0.5650489291265464, 0.5706944440913128, 0.14876260396953678, 0.2936136181296499, 0.611043942452743, 0.8520904444414383, 0.10721553950723361, 0.5775018407391571, 0.7200062982321006, 0.0815329254645667, 0.9491351762930198, 0.842796994793004, 0.4874352227379398, 0.43651871824896804, 0.901900676703156, 0.6541448145655542, 0.848560731153284, 0.8816432341671665, 0.10134244299057793, 0.7185102783263987, 0.7056955316705702, 0.6709378138328952, 0.6644651129126423, 0.47347670554612853, 0.6918936978038268, 0.15126228440267164]\n",
            "\n",
            "Vetor ordenado: \n",
            "[0.004039433374338763, 0.03252091590403161, 0.051305046960893885, 0.05416047496722287, 0.057918908282517445, 0.06681379520746333, 0.0815329254645667, 0.08785783023281324, 0.09923835709647477, 0.10134244299057793, 0.10350574336692964, 0.10721553950723361, 0.12120429231853302, 0.1336374479544642, 0.13478620455462864, 0.1395347124918076, 0.14876260396953678, 0.15126228440267164, 0.16195850657681232, 0.18608432973052025, 0.19582842508558673, 0.202205394499271, 0.2243640177064674, 0.22797951867775357, 0.24838738761244805, 0.24959036827969672, 0.2546485350557558, 0.2770107982401787, 0.29303980197431223, 0.2936136181296499, 0.29447389558432047, 0.309918144863469, 0.342455145898655, 0.35756996803315444, 0.35775961126854416, 0.3641872624623559, 0.3654825969455454, 0.37211228037455923, 0.40088944077322397, 0.43651871824896804, 0.452614804487646, 0.46943080733219367, 0.47347670554612853, 0.4751337547241995, 0.48448052366482686, 0.4874352227379398, 0.49881134437121943, 0.5021161138598974, 0.5064167441377128, 0.5219004472859944, 0.5431757759538026, 0.5449574983992107, 0.5482573361182351, 0.5556586075128952, 0.5637578975489441, 0.5650489291265464, 0.5652131892830888, 0.5706944440913128, 0.5775018407391571, 0.580620193572199, 0.611043942452743, 0.6232926526214856, 0.6394403713250473, 0.6397566720395645, 0.6420965146531493, 0.6430322743183563, 0.6541448145655542, 0.6585541826967629, 0.6644651129126423, 0.6709378138328952, 0.6881794905021194, 0.6908880420286131, 0.6918936978038268, 0.6989944337206823, 0.7056955316705702, 0.709406672256971, 0.7185102783263987, 0.7200062982321006, 0.7292717941871318, 0.7772231216009784, 0.7787267501491865, 0.8282592491807466, 0.8401338501611824, 0.842796994793004, 0.8458177363284829, 0.848560731153284, 0.8520904444414383, 0.8531322385036761, 0.8662871322673503, 0.8780632130694053, 0.8816432341671665, 0.901900676703156, 0.9085153549261777, 0.9156308064076711, 0.9257762872466507, 0.9321117685183158, 0.9491351762930198, 0.9744456698471703, 0.9869826802802538, 0.9952419126085321]\n",
            "\n",
            "Tempo de processamento: 0.001 s\n"
          ]
        }
      ]
    },
    {
      "cell_type": "markdown",
      "source": [
        "**Análise da complexidade do Selectionsort**\n",
        "\n",
        "**1. Pior caso**\n",
        "\n",
        "Observando a função definida anteriormente, note que no pior caso o segundo loop vai de i + 1 até n, sendo que na primeira vez i = 1, na segunda vez i = 2 e até i = n - 1. Sendo assim, o número de operações é dado por:\n",
        "\n",
        "$$\n",
        "T(n) = \\sum_{i=0}^{n-1}\\left( 2 + \\sum_{j=i+1}^{n-1} 1 \\right)\n",
        "$$\n",
        "\n",
        "Resolução dos cálculos em vídeo: https://www.youtube.com/watch?v=-94G-htRbAg&list=PL7OlISixQYm6lhuuNEadZ_ua4qCVl6zH7&index=11\n",
        "\n",
        "**2. Melhor caso**\n",
        "\n",
        "Note que encontrar o menor elemento da lista exige percorrer todos as posições do vetor, ou seja o loop mais interno sempre será executado o número máximo de vezes, o que nos leva a uma complexidade $O(n^2)$.\n",
        "\n",
        "**3. Caso médio**\n",
        "\n",
        "Como tanto o melhor quanto pior casos são quadráticos, o caso médio também tem complexidade $O(n^2)$.\n",
        "\n",
        "**O algoritmo Insertionsort (Inserção direta)**\n",
        "\n",
        "Podemos fazer uma comparação do Insertion sort com o modo de como algumas pessoas organizam um baralho num jogo de cartas. Imagine que você está jogando cartas. Você está com as cartas na mão e elas estão ordenadas. Você recebe uma nova carta e deve colocá-la na posição correta da sua mão de cartas, de forma que as cartas obedeçam a ordenação. A cada nova carta adicionada a sua mão de cartas, a nova carta pode ser menor que algumas das cartas que você já tem na mão ou maior, e assim, você começa a comparar a nova carta com todas as cartas na sua mão até encontrar sua posição correta. Você insere a nova carta na posição correta, e, novamente, sua mão é composta de cartas totalmente ordenadas. Então, você recebe outra carta e repete o mesmo procedimento. Então outra carta, e outra, e assim por diante, até você não receber mais cartas. Esta é a ideia por trás da ordenação por inserção. Percorra as posições do vetor, começando com o índice zero. Cada nova posição é como a nova carta que você recebeu, e você precisa inseri-la no lugar correto no sub-vetor ordenado à esquerda daquela posição.\n",
        "\n",
        "Exemplo: mostre os passos necessários para a ordenação do seguinte vetor\n",
        "\n",
        "[5, 2, 13, 7, -3, 4, 15, 10, 1, 6]\n",
        "\n",
        "Explicação em vídeo: https://www.youtube.com/watch?v=-94G-htRbAg&list=PL7OlISixQYm6lhuuNEadZ_ua4qCVl6zH7&index=11"
      ],
      "metadata": {
        "id": "ZmNc4RaqAEOD"
      }
    },
    {
      "cell_type": "code",
      "source": [
        "import numpy as np\n",
        "import time\n",
        "\n",
        "# Implementação em Python do algoritmo de ordenação Insertionsort\n",
        "def InsertionSort(L):\n",
        "    # Percorre cada elemento de L\n",
        "    for i in range(1, len(L)):\n",
        "        k = i\n",
        "        # Insere o pivô na posição correta\n",
        "        while k > 0 and L[k] < L[k-1]:\n",
        "            L[k], L[k-1] = L[k-1], L[k]\n",
        "            k = k - 1\n",
        "\n",
        "# Início do script\n",
        "n = 100\n",
        "X = list(np.random.random(n))\n",
        "\n",
        "#X = [5, 2, 13, 7, -3, 4, 15, 10, 1, 6]\n",
        "\n",
        "# Imprime vetor\n",
        "print('Vetor não ordenado: ')\n",
        "print(X)\n",
        "print()\n",
        "\n",
        "# Aplica Bubblesort\n",
        "inicio = time.time()\n",
        "InsertionSort(X)\n",
        "fim = time.time()\n",
        "\n",
        "# Imprime vetor ordenado\n",
        "print('Vetor ordenado: ')\n",
        "print(X)\n",
        "print()\n",
        "print('Tempo de processamento: %.3f s' %(fim - inicio))"
      ],
      "metadata": {
        "colab": {
          "base_uri": "https://localhost:8080/"
        },
        "id": "e2DdwTxGC14F",
        "outputId": "9bd478cf-8cb2-4e04-f149-8bb74d69089f"
      },
      "execution_count": 4,
      "outputs": [
        {
          "output_type": "stream",
          "name": "stdout",
          "text": [
            "Vetor não ordenado: \n",
            "[0.024660133954637842, 0.9613370072250393, 0.47070054978109355, 0.285447992173283, 0.8989614335416852, 0.9598021279041808, 0.23118114771562703, 0.14476338904399944, 0.8195006557954393, 0.26592338622871725, 0.05990406842991769, 0.12418363155910017, 0.23246368185507782, 0.15005299296327024, 0.010902912197559456, 0.575297357783379, 0.8620002361682136, 0.5037160796516315, 0.1998589126337874, 0.9090852137723718, 0.7330244588059402, 0.07569450140347467, 0.9077516823729083, 0.7280973007112267, 0.4255622129866342, 0.04396554607617176, 0.5357460628701209, 0.5162980541399441, 0.31531671683878515, 0.04820782922585054, 0.9026963491752344, 0.3793015277687397, 0.47401933843809374, 0.4477737547364492, 0.02999744476525723, 0.805453268299655, 0.06248177246993614, 0.1903897727671977, 0.375242379906751, 0.2626567910665606, 0.9300450576123067, 0.49266019075107637, 0.5466601675016673, 0.546470776604665, 0.5586969266689518, 0.757134208404029, 0.6208823182983143, 0.9100112587190272, 0.7386032873322599, 0.4628550086935893, 0.9280773347124831, 0.05769077778424048, 0.8410886437981266, 0.31008046422790325, 0.012208435663411676, 0.8113856688469436, 0.6201804460482181, 0.011118729691095508, 0.5171167038413184, 0.4033483007832154, 0.02723956169819619, 0.7421794851039575, 0.03720622225763104, 0.25823452032758776, 0.013547765699595704, 0.9976232855745863, 0.47016735006154375, 0.807057972374855, 0.9798211351150431, 0.5588526456877113, 0.08700699810740142, 0.4702294474798061, 0.11971339983154838, 0.40865081826922134, 0.6956971034195302, 0.2124169123017996, 0.8918457683552043, 0.0866005413466685, 0.7258495442344115, 0.7675003014741469, 0.34130714336098456, 0.0029396735154078035, 0.24161416056735385, 0.14070823112397357, 0.42450104195025207, 0.5066437911133649, 0.7565877169298523, 0.629452542851566, 0.18649159074626043, 0.27416049810481713, 0.9992824924029539, 0.11734303659610967, 0.18253892048711196, 0.9593181905499842, 0.45844552883554246, 0.6436383544787831, 0.32449711726155817, 0.11258896884087999, 0.874299316828279, 0.5761194656679378]\n",
            "\n",
            "Vetor ordenado: \n",
            "[0.0029396735154078035, 0.010902912197559456, 0.011118729691095508, 0.012208435663411676, 0.013547765699595704, 0.024660133954637842, 0.02723956169819619, 0.02999744476525723, 0.03720622225763104, 0.04396554607617176, 0.04820782922585054, 0.05769077778424048, 0.05990406842991769, 0.06248177246993614, 0.07569450140347467, 0.0866005413466685, 0.08700699810740142, 0.11258896884087999, 0.11734303659610967, 0.11971339983154838, 0.12418363155910017, 0.14070823112397357, 0.14476338904399944, 0.15005299296327024, 0.18253892048711196, 0.18649159074626043, 0.1903897727671977, 0.1998589126337874, 0.2124169123017996, 0.23118114771562703, 0.23246368185507782, 0.24161416056735385, 0.25823452032758776, 0.2626567910665606, 0.26592338622871725, 0.27416049810481713, 0.285447992173283, 0.31008046422790325, 0.31531671683878515, 0.32449711726155817, 0.34130714336098456, 0.375242379906751, 0.3793015277687397, 0.4033483007832154, 0.40865081826922134, 0.42450104195025207, 0.4255622129866342, 0.4477737547364492, 0.45844552883554246, 0.4628550086935893, 0.47016735006154375, 0.4702294474798061, 0.47070054978109355, 0.47401933843809374, 0.49266019075107637, 0.5037160796516315, 0.5066437911133649, 0.5162980541399441, 0.5171167038413184, 0.5357460628701209, 0.546470776604665, 0.5466601675016673, 0.5586969266689518, 0.5588526456877113, 0.575297357783379, 0.5761194656679378, 0.6201804460482181, 0.6208823182983143, 0.629452542851566, 0.6436383544787831, 0.6956971034195302, 0.7258495442344115, 0.7280973007112267, 0.7330244588059402, 0.7386032873322599, 0.7421794851039575, 0.7565877169298523, 0.757134208404029, 0.7675003014741469, 0.805453268299655, 0.807057972374855, 0.8113856688469436, 0.8195006557954393, 0.8410886437981266, 0.8620002361682136, 0.874299316828279, 0.8918457683552043, 0.8989614335416852, 0.9026963491752344, 0.9077516823729083, 0.9090852137723718, 0.9100112587190272, 0.9280773347124831, 0.9300450576123067, 0.9593181905499842, 0.9598021279041808, 0.9613370072250393, 0.9798211351150431, 0.9976232855745863, 0.9992824924029539]\n",
            "\n",
            "Tempo de processamento: 0.003 s\n"
          ]
        }
      ]
    },
    {
      "cell_type": "markdown",
      "source": [
        "**Análise da complexidade do Insertionsort**\n",
        "\n",
        "**1. Pior caso**\n",
        "\n",
        "Note que no pior caso a posição correta do pivô será sempre em k = 0 de modo que o segundo loop vai ter de percorrer todo vetor (de i até 0), sendo que na primeira vez i = 1, na segunda vez i = 2 e até i = n - 1. Sendo assim, o número de operações é dado por:\n",
        "\n",
        "$$\n",
        "T(n) = \\sum_{i=1}^{n-1}\\left(1 + \\sum_{j=0}^{i} 2 \\right)\n",
        "$$\n",
        "\n",
        "Explicação em vídeo: https://www.youtube.com/watch?v=-94G-htRbAg&list=PL7OlISixQYm6lhuuNEadZ_ua4qCVl6zH7&index=11\n",
        "\n",
        "**2. Melhor caso**\n",
        "\n",
        "Para o melhor caso, note que o pivô sempre está na posição correta, sendo que o loop mais interno não será executado nenhuma vez. Assim temos que dentro do loop mais externo apenas uma instrução será executada, o que nos leva a:\n",
        "\n",
        "$$\n",
        "T(n) = \\sum_{i=1}^{n-1}1 = n - 1\n",
        "$$\n",
        "\n",
        "o que significa complexidade $O(n)$.\n",
        "\n",
        "**3. Caso médio**\n",
        "\n",
        "Para o caso médio, podemos aplicar uma estratégia muito similar àquela adotada na análise do Bubblesort. A ideia consiste em considerar que todos os casos são igualmente prováveis e calcular uma média de todos eles. Assim, temos:\n",
        "\n",
        "$$\n",
        "T(n) = \\frac{1}{n-1}\\sum_{k=1}^{n-1}\\left[ \\sum_{i=1}^{k} \\left(1 + \\sum_{j=0}^{i} 2 \\right) \\right]\n",
        "$$\n",
        "\n",
        "Explicação em vídeo: https://www.youtube.com/watch?v=-94G-htRbAg&list=PL7OlISixQYm6lhuuNEadZ_ua4qCVl6zH7&index=11\n",
        "\n",
        "**Recursão**\n",
        "\n",
        "Dizemos que uma função é recursiva se ela é definida em termos dela mesma. Em matemática e computação uma classe de objetos ou métodos exibe um comportamento recursivo quando pode ser definido por duas propriedades:\n",
        "\n",
        "1. Um caso base: condição de término da recursão em que o processo produz uma resposta.\n",
        "\n",
        "2. Um passo recursivo: um conjunto de regras que reduz todos os outros casos ao caso base.\n",
        "\n",
        "A série de Fibonacci é um exemplo clássico de recursão, pois:\n",
        "\n",
        "$F(1) = 1$\t(caso base)\n",
        "$F(2) = 1$\t(caso base)\n",
        "\n",
        "Para todo n > 1, $F(n) = F(n - 1) + F(n - 2)$\n",
        "\n",
        "**O algoritmo Quicksort**\n",
        "\n",
        "O algoritmo Quicksort segue o paradigma conhecido como “Dividir para Conquistar” pois ele quebra o problema de ordenar um vetor em subproblemas menores, mais fáceis e rápidos de serem resolvidos. Primeiramente, o método divide o vetor original em duas partes: os elementos menores que o pivô (tipicamente escolhido como o primeiro ou último elemento do conjunto). O método então ordena essas partes de maneira recursiva. \n",
        "\n",
        "O algoritmo pode ser dividido em 3 passos principais:\n",
        "\n",
        "1. Escolha do pivô: em geral, o pivô é o primeiro ou último elemento do conjunto.\n",
        "\n",
        "2. Particionamento: reorganizar o vetor de modo que todos os elementos menores que o pivô apareçam antes dele (a esquerda) e os elementos maiores apareçam após ele (a direita). Ao término dessa etapa o pivô estará em sua posição final (existem várias formas de se fazer essa etapa)\n",
        "\n",
        "3. Ordenação: recursivamente aplicar os passos acima aos sub-vetores produzidos durante o particionamento. O caso limite da recursão é o sub-vetor de tamanho 1, que já está ordenado.\n",
        "\n",
        "Exemplo: mostre os passos necessários para a ordenação do seguinte vetor\n",
        "\n",
        "[5, 2, 13, 7, -3, 4, 15, 10, 1, 6]\n",
        "\n",
        "Explicação em vídeo: https://www.youtube.com/watch?v=hmsUjkwuYiU&list=PL7OlISixQYm6lhuuNEadZ_ua4qCVl6zH7&index=12\n",
        "\n",
        "A seguir veremos uma implementação recursiva em Python para o algoritmo Quicksort.\n"
      ],
      "metadata": {
        "id": "JhExAY0KDHV9"
      }
    },
    {
      "cell_type": "code",
      "source": [
        "import numpy as np\n",
        "import time\n",
        "\n",
        "# Implementação em Python do algoritmo de ordenação Quicksort\n",
        "def QuickSort(L):\n",
        "    if len(L) <= 1:\n",
        "        return L\n",
        "    # Pivô é o primeiro elemento da lista pode ser último ou do meio)\n",
        "    m = L[0]        \n",
        "    # Chamada recursiva\n",
        "    return  QuickSort([x for x in L if x < m]) + [x for x in L if x == m] + QuickSort([x for x in L if x > m])\n",
        "\n",
        "# Início do script\n",
        "#n = 5000\n",
        "#X = list(np.random.random(n))\n",
        "\n",
        "X = [5, 2, 13, 7, -3, 4, 15, 10, 1, 6]\n",
        "\n",
        "# Imprime vetor\n",
        "print('Vetor não ordenado: ')\n",
        "print(X)\n",
        "print()\n",
        "\n",
        "# Aplica Bubblesort\n",
        "inicio = time.time()\n",
        "Y = QuickSort(X)\n",
        "fim = time.time()\n",
        "\n",
        "# Imprime vetor ordenado\n",
        "print('Vetor ordenado: ')\n",
        "print(Y)\n",
        "print()\n",
        "print('Tempo de processamento: %.3f s' %(fim - inicio))"
      ],
      "metadata": {
        "colab": {
          "base_uri": "https://localhost:8080/"
        },
        "id": "Y6ejMh3ZPdoO",
        "outputId": "31b7dbe1-2d29-43e5-faf4-11c458397209"
      },
      "execution_count": null,
      "outputs": [
        {
          "output_type": "stream",
          "name": "stdout",
          "text": [
            "Vetor não ordenado: \n",
            "[5, 2, 13, 7, -3, 4, 15, 10, 1, 6]\n",
            "\n",
            "Vetor ordenado: \n",
            "[-3, 1, 2, 4, 5, 6, 7, 10, 13, 15]\n",
            "\n",
            "Tempo de processamento: 0.000 s\n"
          ]
        }
      ]
    },
    {
      "cell_type": "markdown",
      "source": [
        "**Análise da complexidade do Quicksort**\n",
        "\n",
        "**1. Pior caso**\n",
        "\n",
        "Acontece quando o pivô é sempre o maior ou menor elemento, o que gera partições totalmente desbalanceadas: \n",
        "\n",
        "Na primeira chamada recursiva, temos uma lista de tamanho n, então  para criar as novas listas L, teremos n – 1 elementos na primeira lista, o pivô e uma lista vazia.\n",
        "\n",
        "Isso nos permite escrever a seguinte relação de recorrência: \n",
        "\n",
        "$$\n",
        "T(n) = T(n-1) + T(0) + n\n",
        "$$\n",
        "\n",
        "**2. Melhor caso**\n",
        "\n",
        "Acontece quando as partições tem exatamente o mesmo tamanho, ou seja, são n/2 elementos, o pivô e mais n/2 elementos. Podemos escrever a seguinte relação de recorrência:\n",
        "\n",
        "$$\n",
        "T(n) = T\\left( \\frac{n}{2} \\right) + T\\left( \\frac{n}{2} \\right) + n\n",
        "$$\n",
        "\n",
        "**3. Caso médio**\n",
        "\n",
        "Felizmente, o caso médio está muito mais próximo do melhor caso do que do pior caso. Para considerar o caso médio, suponha que alternemos as recorrências de melhor caso, M(n), com pior caso, P(n). \n",
        "\n",
        "Explicação em vídeo: https://www.youtube.com/watch?v=hmsUjkwuYiU&list=PL7OlISixQYm6lhuuNEadZ_ua4qCVl6zH7&index=12\n",
        "\n",
        "Observação: Uma estratégia empírica que, em geral, melhora o desempenho do algoritmo Quicksort consiste em escolher como pivô a mediana entre o primeiro elemento, o elemento do meio e o último elemento (requer tempo constante e ajuda muito a melhorar a eficiência do método!).\n",
        "\n",
        "**O algoritmo Mergesort (Ordenação por intercalação)**\n",
        "\n",
        "O algoritmo Mergesort utiliza a abordagem Dividir para Conquistar. \n",
        "\n",
        "A ideia básica consiste em dividir o problema em vários subproblemas e resolver esses subproblemas através da recursividade e depois conquistar, o que é feito após todos os subproblemas terem sido resolvidos através da união das resoluções dos subproblemas menores. \n",
        "\n",
        "Trata-se de um algoritmo recursivo que divide uma lista continuamente pela metade. Se a lista estiver vazia ou tiver um único elemento, ela está ordenada por definição (o caso base). \n",
        "\n",
        "Se a lista tiver mais de um elemento, dividimos a lista e invocamos recursivamente um Mergesort em ambas as metades. Assim que as metades estiverem ordenadas, a operação fundamental, chamada de intercalação, é realizada. \n",
        "\n",
        "Intercalar é o processo de pegar duas listas menores ordenadas e combiná-las de modo a formar uma lista nova, única e ordenada. A figura a seguir ilustra as duas fases principais do algoritmo Mergesort: a divisão e a intercalação.\n",
        "\n",
        "![picture](https://drive.google.com/uc?id=1jqJvxmupbrR7oqrZAcifovSheGUaSh1f)\n",
        "\n",
        "![picture](https://drive.google.com/uc?id=1JoZ0GgQc9oFDEzhZfwzkGJmg1WQmi2a1)\n",
        "\n"
      ],
      "metadata": {
        "id": "W3xe6GMdQREW"
      }
    },
    {
      "cell_type": "code",
      "source": [
        "# Implementação em Python do algoritmo de ordenação MergeSort\n",
        "def MergeSort(L):\n",
        "\n",
        "    if len(L) > 1:\n",
        "\n",
        "        meio = len(L)//2\n",
        "        LE = L[:meio]   # Lista Esquerda\n",
        "        LD = L[meio:]   # Lista Direita\n",
        "\n",
        "        # Aplica recursivamente nas sublistas\n",
        "        MergeSort(LE)   \n",
        "        MergeSort(LD)\n",
        "\n",
        "        # Quando volta da recursão inicia aqui!\n",
        "        i, j, k = 0, 0, 0\n",
        "        # Faz a intercalação das duas listas (merge)\n",
        "        while i < len(LE) and j < len(LD):\n",
        "            if LE[i] < LD[j]:\n",
        "                L[k] = LE[i]\n",
        "                i += 1\n",
        "            else:\n",
        "                L[k] = LD[j]\n",
        "                j += 1\n",
        "            k += 1\n",
        "\n",
        "        while i < len(LE):\n",
        "            L[k] = LE[i]\n",
        "            i += 1\n",
        "            k += 1\n",
        "\n",
        "        while j < len(LD):\n",
        "            L[k] = LD[j]\n",
        "            j += 1\n",
        "            k += 1\n",
        "\n",
        "# Início do script\n",
        "X = [5, 2, 13, 7, -3, 4, 15, 10, 1, 6]\n",
        "\n",
        "# Imprime vetor\n",
        "print('Vetor não ordenado: ')\n",
        "print(X)\n",
        "print()\n",
        "\n",
        "MergeSort(X)\n",
        "\n",
        "# Imprime vetor ordenado\n",
        "print('Vetor ordenado: ')\n",
        "print(X)"
      ],
      "metadata": {
        "colab": {
          "base_uri": "https://localhost:8080/"
        },
        "id": "EZmCCpZKWtPJ",
        "outputId": "5a03dd72-1aa5-4d73-c939-268bda05bd09"
      },
      "execution_count": null,
      "outputs": [
        {
          "output_type": "stream",
          "name": "stdout",
          "text": [
            "Vetor não ordenado: \n",
            "[5, 2, 13, 7, -3, 4, 15, 10, 1, 6]\n",
            "\n",
            "Vetor ordenado: \n",
            "[-3, 1, 2, 4, 5, 6, 7, 10, 13, 15]\n"
          ]
        }
      ]
    },
    {
      "cell_type": "markdown",
      "source": [
        "**Análise da complexidade do Mergesort**\n",
        "\n",
        "Os três passos úteis dos algoritmos de dividir para conquistar, ou divide and conquer, que se aplicam ao MergeSort são: \n",
        "\n",
        "1. Dividir: Calcula o ponto médio do sub-arranjo, o que demora um tempo constante O(1); \n",
        "2. Conquistar: Recursivamente resolve dois subproblemas, cada um de tamanho n/2, o que contribui com T(n/2) + T(n/2) para o tempo de execução; \n",
        "3. Combinar: Unir os sub-arranjos em um único conjunto ordenado, que leva o tempo O(n);\n",
        "\n",
        "Assim, podemos escrever a relação de recorrência como:\n",
        "\n",
        "$$\n",
        "T(n) = \\begin{cases}\n",
        "    O(1)       & \\quad \\text{se } n=1\\\\\n",
        "    2T\\left( \\frac{n}{2} \\right) + O(n)  & \\quad \\text{se } n>1\n",
        "  \\end{cases}\n",
        "$$\n",
        "\n",
        "Explicação em vídeo: https://www.youtube.com/watch?v=zYwkOoxK3qE&list=PL7OlISixQYm6lhuuNEadZ_ua4qCVl6zH7&index=13\n",
        "\n",
        "Uma das maiores limitações do algoritmo MergeSort é que esse método passa por todo o longo processo mesmo se a lista L já estiver ordenada. Por essa razão, a complexidade de melhor caso é idêntica a complexidade de pior caso e de caso médio.\n",
        "\n",
        "Porém, pode-se mostrar que para o caso de n grande, e listas compostas por números gerados aleatoriamente, o número médio de comparações realizadas pelo algoritmo MergeSort é aproximadamente $\\alpha n$  menor que o número de comparações no pior caso, onde:\n",
        "\n",
        "$$ \n",
        "\\alpha = -1 + \\sum_{k=0}^{\\infty} \\left( \\frac{1}{2^k + 1} \\right) \\approx 0.2645\n",
        "$$\n",
        "\n",
        "**Tabela comparativa de desempenho**\n",
        "\n",
        "![picture](https://drive.google.com/uc?id=1EPjNI8eGNUtLnA4GdeB1FlbOUfEE4mXN)\n",
        "\n",
        "\n",
        "Link para o ambiente de execução Google Colab:\n",
        "https://colab.research.google.com/drive/1rgdEwvn3wfD5-wUVE_9MuZvEdy7kjdNv?usp=sharing\n",
        "\n",
        "\"Absence of evidence is not evidence of absence.\" (Carl Sagan)"
      ],
      "metadata": {
        "id": "nPh2ytLKWwRu"
      }
    }
  ]
}