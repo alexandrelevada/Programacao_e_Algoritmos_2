{
  "nbformat": 4,
  "nbformat_minor": 0,
  "metadata": {
    "colab": {
      "provenance": [],
      "collapsed_sections": []
    },
    "kernelspec": {
      "name": "python3",
      "display_name": "Python 3"
    },
    "language_info": {
      "name": "python"
    }
  },
  "cells": [
    {
      "cell_type": "markdown",
      "source": [
        "##**Orientação a Objetos em Python**\n",
        " Prof. Alexandre Levada"
      ],
      "metadata": {
        "id": "RG6BvgXqgX2c"
      }
    },
    {
      "cell_type": "markdown",
      "source": [
        "##**Programação Orientada a Objetos**\n",
        "\n",
        "Em computação, o conceito de abstração é fundamental para o desenvolvimento de software.\n",
        "\n",
        "Funções são abstrações de processos: se o programador necessitar, basta invocar a função, sem precisar conhecer os detalhes da implementação\n",
        "\n",
        "Conforme a complexidade do software aumenta, torna-se necessário definir abstrações para dados. É para essa finalidade que foram criados os *Tipos Abstratos de Dados* (TAD’s)\n",
        "\n",
        "**Tipos Abstratos de Dados**\n",
        "\n",
        "Um Tipo Abstrato de Dados, ou TAD, é um tipo de dados definido pelo programador que especifica um conjunto de variáveis que são utilizadas para armazenar informação e um conjunto de operações bem definidas sobre essas variáveis\n",
        "\n",
        "TAD’s são definidos de forma a ocultar a sua implementação, de modo que um programador deve interagir com as variáveis internas a partir de uma interface, definida em termos do conjunto de operações.\n",
        "\n",
        "![picture](https://drive.google.com/uc?id=1QkKU8JF00KfKG5O4_6gHirOsXta11jde)\n",
        "\n",
        "Um exemplo de TAD implementado nativamente pela linguagem Python são as listas. Uma lista em Python consiste basicamente de uma variável composta heterogênea (pode armazenar informações de tipos de dados distintos) utilizada para armazenar as informações mais um conjunto de operações para manipular essa variável.\n",
        "\n",
        "Como exemplo de operações encapsuladas em um TAD lista, temos:\n",
        "\n",
        "L.append(x): adiciona x no final da lista L\n",
        "\n",
        "L.pop(): remove o último elemento da lista L\n",
        "\n",
        "L.pop(i): remove o elemento da posição i \n",
        "\n",
        "L.insert(i, x): insere elemento x na posição i\n",
        "\n",
        "L.reverse(): inverte a lista L\n",
        "\n",
        "L.sort(): ordena os elementos da lista L\n",
        "\n",
        "Existem diversas vantagens de se trabalhar com TAD’s, dentre as quais podemos citar:\n",
        "\n",
        "1. Foco na resolução do problema e não nos detalhes de implementação\n",
        "2. Redução de erros pelo encapsulamento de código validado\n",
        "3. Correção de bugs e manutenção de código (podemos modificar a parte interna de um TAD sem se preocupar com o programa que utiliza o TAD)\n",
        "4. Redução da complexidade no desenvolvimento de software, pois é mais fácil dividir um programa muito extenso em pequenos módulos separados de modo que times possam trabalhar de maneira independente\n",
        "\n",
        "Um TAD é uma abstração, mas sua implementação em uma linguagem de programação é chamada de classe. Uma classe é composta por um conjunto de atributos, que são as variáveis internas utilizadas para armazenar informações, e um conjunto de métodos, que são as operações (funções) utilizadas para processar seus atributos (variáveis internas). Uma instância de uma classe é o que chamamos de objeto.\n",
        "\n",
        "A ideia desse conceito é bastante simples. Por exemplo, podemos definir uma classe Carro, com os seguintes atributos: nome, marca, cor, ano, km e valor. Podemos criar alguns métodos, como por exemplo: muda_cor(nova_cor), muda_valor(novo_valor), verifica_marca(), verifica_km(), etc. Quando definimos um objeto específico da classe Carro, temos uma instância dessa classe. Por exemplo, um objeto dessa classe poderia ter as seguintes informações:\n",
        "\n",
        "nome = ‘Onix’\n",
        "\n",
        "marca = ‘Chevrolet’\n",
        "\n",
        "cor = ‘Prata’\n",
        "\n",
        "ano = 2020\n",
        "\n",
        "km = 20000\n",
        "\n",
        "valor = 55.600,00\n",
        "\n",
        "Em resumo, a classe define a implementação do TAD, enquanto que o objeto é a variável alocada na memória, que representa uma instância específica da classe.\n",
        "\n",
        "Link para video: https://www.youtube.com/watch?v=YSek9h04wAg&list=PL7OlISixQYm6lhuuNEadZ_ua4qCVl6zH7&index=14\n",
        "\n",
        "**Classes em Python**\n",
        "\n",
        "Iremos criar nossa primeira classe em Python utilizando como exemplo, o TAD que define uma fração matemática. \n",
        "\n",
        "Lembre-se que toda fração é composta por dois números números: um numerador e um denominador.\n",
        "\n",
        "Para que um objeto da classe Fracao possa ser criado, é necessário definirmos um método construtor, que é a função chamada toda vez que um novo objeto for instanciado.\n",
        "\n",
        "Iremos apresentar a seguir a definição da Fracao com dois métodos: o construtor, que em Python deve se chamar \\_\\_init\\_\\_ e receber como parâmetro o próprio objeto (denominado de self), e a função show() que imprime na tela a fração em forma de string."
      ],
      "metadata": {
        "id": "_khkZC0rjlu_"
      }
    },
    {
      "cell_type": "code",
      "source": [
        "class Fracao:\n",
        "  # Construtor (usado para instanciar novos objetos)\n",
        "  def __init__(self, numerador, denominador):   \n",
        "    self.num = numerador\n",
        "    self.den = denominador\n",
        "\t\n",
        "  # Imprime fração na tela como string\n",
        "  def show(self):\n",
        "    if self.den != 0:\n",
        "      print('%s/%s' %(self.num, self.den))\n",
        "    else:\n",
        "      print('Fração inválida! Divisão por zero.')\n",
        "\n",
        "f = Fracao(2, 3)\n",
        "f.show()\n",
        "\n",
        "g = Fracao(5, 0)\n",
        "g.show()\n",
        "\n",
        "print(f)"
      ],
      "metadata": {
        "colab": {
          "base_uri": "https://localhost:8080/"
        },
        "id": "b-D1eRTidO6d",
        "outputId": "b0677bf4-19b5-4149-8da7-55b5da7eab42"
      },
      "execution_count": null,
      "outputs": [
        {
          "output_type": "stream",
          "name": "stdout",
          "text": [
            "2/3\n",
            "Fração inválida! Divisão por zero.\n",
            "<__main__.Fracao object at 0x7f57f95d6b50>\n"
          ]
        }
      ]
    },
    {
      "cell_type": "markdown",
      "source": [
        "Note que se usarmos o comando print diretamente objeto, não iremos ver o conteúdo de suas variáveis, mas sim o endereço de memória em que esse objeto encontra-se definido.\n",
        "\n",
        "Há uma maneira de dizer para o interpretador Python que quando fizermos uma referência ao objeto dentro de um comando print, desejamos imprimir alguma informação interna como texto. Trata-se do método \\_\\_str\\_\\_, que nesse caso pode ser definido como segue:\n",
        "\n"
      ],
      "metadata": {
        "id": "PG5xe2zufv_2"
      }
    },
    {
      "cell_type": "code",
      "source": [
        "def __str__(self):\n",
        "  s = str(self.num) + \"/\" + str(self.den)\n",
        "  if self.den != 0:\n",
        "\t  return s\n",
        "  else:\n",
        "    return 'Fração inválida! Divisão por zero.'"
      ],
      "metadata": {
        "id": "Tq0Pl9p6iU_B"
      },
      "execution_count": null,
      "outputs": []
    },
    {
      "cell_type": "markdown",
      "source": [
        "Na verdade, estamos fazendo uma sobrecarga na função \\_\\_str\\_\\_ que já existe por padrão em todo objeto criado em Python. Porém, por padrão, essa função imprime o endereço de memória do objeto. Ao redefini-la, podemos imprimir as informações internas da maneira que desejarmos.\n",
        "\n",
        "Assim, a classe pode ser redefinida como:\n"
      ],
      "metadata": {
        "id": "Gw5RiEMOi8JO"
      }
    },
    {
      "cell_type": "code",
      "source": [
        "class Fracao:\n",
        "  # Construtor (usado para instanciar novos objetos)\n",
        "  def __init__(self, numerador, denominador):   \n",
        "    self.num = numerador\n",
        "    self.den = denominador\n",
        "    if denominador == 0:\n",
        "      print('Fração definida incorretamente!')\n",
        "\t\n",
        "  # Função para imprimir com o comando print\n",
        "  def __str__(self):\n",
        "    s = str(self.num) + \"/\" + str(self.den)\n",
        "    if self.den != 0:\n",
        "\t    return s\n",
        "    else:\n",
        "      return 'Fração inválida! Divisão por zero.'\n",
        "\n",
        "f = Fracao(2, 3)\n",
        "g = Fracao(5, 0)\n",
        "\n",
        "print(f)\n",
        "print(g)"
      ],
      "metadata": {
        "colab": {
          "base_uri": "https://localhost:8080/"
        },
        "id": "p_izt0qFitop",
        "outputId": "e00b7a91-6c90-44e3-e42b-33d7478f8250"
      },
      "execution_count": null,
      "outputs": [
        {
          "output_type": "stream",
          "name": "stdout",
          "text": [
            "Fração definida incorretamente!\n",
            "2/3\n",
            "Fração inválida! Divisão por zero.\n"
          ]
        }
      ]
    },
    {
      "cell_type": "markdown",
      "source": [
        "Vamos tentar calcular o produto entre duas Frações com o operador *. Note que se executarmos:"
      ],
      "metadata": {
        "id": "_ZzF_nkhkyf3"
      }
    },
    {
      "cell_type": "code",
      "source": [
        "f1 = Fracao(1,4)\n",
        "f2 = Fracao(1,2)\n",
        "f3 = f1 * f2"
      ],
      "metadata": {
        "colab": {
          "base_uri": "https://localhost:8080/",
          "height": 201
        },
        "id": "RrR4soZ4k2XC",
        "outputId": "6d239646-907b-4dea-a7ec-e6d605955de4"
      },
      "execution_count": null,
      "outputs": [
        {
          "output_type": "error",
          "ename": "TypeError",
          "evalue": "ignored",
          "traceback": [
            "\u001b[0;31m---------------------------------------------------------------------------\u001b[0m",
            "\u001b[0;31mTypeError\u001b[0m                                 Traceback (most recent call last)",
            "\u001b[0;32m<ipython-input-3-9abb17fe1ef7>\u001b[0m in \u001b[0;36m<module>\u001b[0;34m\u001b[0m\n\u001b[1;32m      1\u001b[0m \u001b[0mf1\u001b[0m \u001b[0;34m=\u001b[0m \u001b[0mFracao\u001b[0m\u001b[0;34m(\u001b[0m\u001b[0;36m1\u001b[0m\u001b[0;34m,\u001b[0m\u001b[0;36m4\u001b[0m\u001b[0;34m)\u001b[0m\u001b[0;34m\u001b[0m\u001b[0;34m\u001b[0m\u001b[0m\n\u001b[1;32m      2\u001b[0m \u001b[0mf2\u001b[0m \u001b[0;34m=\u001b[0m \u001b[0mFracao\u001b[0m\u001b[0;34m(\u001b[0m\u001b[0;36m1\u001b[0m\u001b[0;34m,\u001b[0m\u001b[0;36m2\u001b[0m\u001b[0;34m)\u001b[0m\u001b[0;34m\u001b[0m\u001b[0;34m\u001b[0m\u001b[0m\n\u001b[0;32m----> 3\u001b[0;31m \u001b[0mf3\u001b[0m \u001b[0;34m=\u001b[0m \u001b[0mf1\u001b[0m \u001b[0;34m*\u001b[0m \u001b[0mf2\u001b[0m\u001b[0;34m\u001b[0m\u001b[0;34m\u001b[0m\u001b[0m\n\u001b[0m",
            "\u001b[0;31mTypeError\u001b[0m: unsupported operand type(s) for *: 'Fracao' and 'Fracao'"
          ]
        }
      ]
    },
    {
      "cell_type": "markdown",
      "source": [
        "Isso ocorre porque precisamos dizer ao interpretador Python como calcular o produto entre duas frações com o operador *. Para isso, devemos criar o método \\_\\_mul\\_\\_\n",
        "\n",
        "Por exemplo, utilizar f1 * f2 será equivalente a chamar f1.\\_\\_mul\\_\\_(f2).\n",
        "\n"
      ],
      "metadata": {
        "id": "lvOYi_UQlTdn"
      }
    },
    {
      "cell_type": "code",
      "source": [
        "class Fracao:\n",
        "  # Construtor (usado para instanciar novos objetos)\n",
        "  def __init__(self, numerador, denominador):   \n",
        "    self.num = numerador\n",
        "    self.den = denominador\n",
        "    if denominador == 0:\n",
        "      print('Fração definida incorretamente!')\n",
        "\t\n",
        "  # Função para imprimir com o comando print\n",
        "  def __str__(self):\n",
        "    s = str(self.num) + \"/\" + str(self.den)\n",
        "    if self.den != 0:\n",
        "\t    return s\n",
        "    else:\n",
        "      return 'Fração inválida! Divisão por zero.'\n",
        "\n",
        "  # Implementa a multiplicação de duas frações\n",
        "  def __mul__(self, other):\n",
        "\t  novo_num = self.num * other.num\n",
        "\t  novo_den = self.den * other.den\n",
        "\t  return Fracao(novo_num, novo_den)\n",
        "\n",
        "f = Fracao(2, 3)\n",
        "print(f)\n",
        "g = Fracao(5, 2)\n",
        "print(g)\n",
        "\n",
        "h = f*g\n",
        "print(h)\n",
        "\n"
      ],
      "metadata": {
        "colab": {
          "base_uri": "https://localhost:8080/"
        },
        "id": "3SKf-R3wl1ZH",
        "outputId": "c7053b96-5818-4223-c5be-f7e8d3c45634"
      },
      "execution_count": null,
      "outputs": [
        {
          "output_type": "stream",
          "name": "stdout",
          "text": [
            "2/3\n",
            "5/2\n",
            "10/6\n"
          ]
        }
      ]
    },
    {
      "cell_type": "markdown",
      "source": [
        "Vamos agora implementar uma função para calcular a soma de duas frações. Da mesma forma que fizemos com a multiplicação, podemos criar a função \\_\\_add\\_\\_ para sobrecarregar o operador +. Note que matematicamente a definição da soma é dada por:\n",
        "\n",
        "$$\n",
        "\\frac{a}{b} + \\frac{c}{d} = \\frac{ad+bc}{bd}\n",
        "$$\n",
        "\n",
        "Dessa forma, a implementação em Python da função fica:"
      ],
      "metadata": {
        "id": "nH33KoKGmo3Y"
      }
    },
    {
      "cell_type": "code",
      "source": [
        "class Fracao:\n",
        "  # Construtor (usado para instanciar novos objetos)\n",
        "  def __init__(self, numerador, denominador):   \n",
        "    self.num = numerador\n",
        "    self.den = denominador\n",
        "    if denominador == 0:\n",
        "      print('Fração definida incorretamente!')\n",
        "\t\n",
        "  # Função para imprimir com o comando print\n",
        "  def __str__(self):\n",
        "    s = str(self.num) + \"/\" + str(self.den)\n",
        "    if self.den != 0:\n",
        "\t    return s\n",
        "    else:\n",
        "      return 'Fração inválida! Divisão por zero.'\n",
        "\n",
        "  # Implementa a multiplicação de duas frações\n",
        "  def __mul__(self, other):\n",
        "\t  novo_num = self.num * other.num\n",
        "\t  novo_den = self.den * other.den\n",
        "\t  return Fracao(novo_num, novo_den)\n",
        "   \n",
        "  def __add__(self, other):\n",
        "\t  novo_num = self.num * other.den + self.den*other.num\n",
        "\t  novo_den = self.den * other.den\n",
        "\t  return Fracao(novo_num, novo_den)\n",
        "\n",
        "f = Fracao(1, 4)\n",
        "print(f)\n",
        "g = Fracao(1, 2)\n",
        "print(g)\n",
        "\n",
        "h = f*g\n",
        "print(h)\n",
        "\n",
        "p = f + g\n",
        "print(p)"
      ],
      "metadata": {
        "colab": {
          "base_uri": "https://localhost:8080/"
        },
        "id": "IML21UGCndUv",
        "outputId": "d2a2aecb-9dd8-4f82-d886-ee77b373f4d6"
      },
      "execution_count": null,
      "outputs": [
        {
          "output_type": "stream",
          "name": "stdout",
          "text": [
            "1/4\n",
            "1/2\n",
            "1/8\n",
            "6/8\n"
          ]
        }
      ]
    },
    {
      "cell_type": "markdown",
      "source": [
        "Note que o resultado está correto, mas a fração não encontra-se em sua forma simplificada. Se dividirmos tanto o numerador quanto o denominador pelo MDC (máximo divisor comum) entre eles, teremos a fração em sua forma simplificada. \n",
        "\n",
        "Vamos criar um método chamado simplifica, que utiliza o algoritmos de Euclides para encontrar o MDC. \n",
        "\n",
        "O algoritmo de Euclides nos diz que o MDC entre dois inteiros m (maior) e n (menor) é o próprio n se n divide m. Caso contrário, a resposta deve ser o MDC de n e o resto da divisão de m por n. A função a seguir implementa a simplificação de uma fração utilizando essa ideia:"
      ],
      "metadata": {
        "id": "nPlLWHpJoTIG"
      }
    },
    {
      "cell_type": "code",
      "source": [
        "class Fracao:\n",
        "  # Construtor (usado para instanciar novos objetos)\n",
        "  def __init__(self, numerador, denominador):   \n",
        "    self.num = numerador\n",
        "    self.den = denominador\n",
        "    if denominador == 0:\n",
        "      print('Fração definida incorretamente!')\n",
        "\t\n",
        "  # Função para imprimir com o comando print\n",
        "  def __str__(self):\n",
        "    s = str(self.num) + \"/\" + str(self.den)\n",
        "    if self.den != 0:\n",
        "\t    return s\n",
        "    else:\n",
        "      return 'Fração inválida! Divisão por zero.'\n",
        "\n",
        "  # Implementa a multiplicação de duas frações\n",
        "  def __mul__(self, other):\n",
        "\t  novo_num = self.num * other.num\n",
        "\t  novo_den = self.den * other.den\n",
        "\t  return Fracao(novo_num, novo_den)\n",
        "   \n",
        "  def __add__(self, other):\n",
        "\t  novo_num = self.num * other.den + self.den*other.num\n",
        "\t  novo_den = self.den * other.den\n",
        "\t  return Fracao(novo_num, novo_den)\n",
        "   \n",
        "   # Implementa uma função para simplificar uma fração\n",
        "  def simplifica(self):\n",
        "\t  m = self.num\n",
        "\t  n = self.den\n",
        "\t  while n > 0:\n",
        "\t\t  m, n = n, m % n\n",
        "\t  mdc = m\n",
        "\t  return Fracao(self.num//mdc, self.den//mdc)\n",
        "\n",
        "f = Fracao(36, 24)\n",
        "print(f)\n",
        "g = f.simplifica()\n",
        "print(g)\n"
      ],
      "metadata": {
        "colab": {
          "base_uri": "https://localhost:8080/"
        },
        "id": "evj5U06woxdw",
        "outputId": "2c19f7c5-8f8c-42ed-ef67-32a171f72579"
      },
      "execution_count": null,
      "outputs": [
        {
          "output_type": "stream",
          "name": "stdout",
          "text": [
            "36/24\n",
            "3/2\n"
          ]
        }
      ]
    },
    {
      "cell_type": "markdown",
      "source": [
        "E como podemos verificar se duas frações são iguais? Basta checarmos se as suas formas simplificadas são idênticas, ou seja, os dois numeradores devem ser iguais e os denominadores também devem ser iguais. Para que possamos utilizar o operador == para comparar frações, temos que definir o nome da função como \\_\\_eq\\_\\_ (sobrecarga do operador ==)."
      ],
      "metadata": {
        "id": "-S2I_2Dup3_D"
      }
    },
    {
      "cell_type": "code",
      "source": [
        "class Fracao:\n",
        "  # Construtor (usado para instanciar novos objetos)\n",
        "  def __init__(self, numerador, denominador):   \n",
        "    self.num = numerador\n",
        "    self.den = denominador\n",
        "    if denominador == 0:\n",
        "      print('Fração definida incorretamente!')\n",
        "\t\n",
        "  # Função para imprimir com o comando print\n",
        "  def __str__(self):\n",
        "    s = str(self.num) + \"/\" + str(self.den)\n",
        "    if self.den != 0:\n",
        "      return s\n",
        "    else:\n",
        "      return 'Fração inválida! Divisão por zero.'\n",
        "\n",
        "  # Implementa a multiplicação de duas frações\n",
        "  def __mul__(self, other):\n",
        "\t  novo_num = self.num * other.num\n",
        "\t  novo_den = self.den * other.den\n",
        "\t  return Fracao(novo_num, novo_den)\n",
        "   \n",
        "  def __add__(self, other):\n",
        "\t  novo_num = self.num * other.den + self.den*other.num\n",
        "\t  novo_den = self.den * other.den\n",
        "\t  return Fracao(novo_num, novo_den)\n",
        "   \n",
        "  # Implementa uma função para simplificar uma fração\n",
        "  def simplifica(self):\n",
        "\t  m = self.num\n",
        "\t  n = self.den\n",
        "\t  while n > 0:\n",
        "\t\t  m, n = n, m % n\n",
        "\t  mdc = m\n",
        "\t  return Fracao(self.num//mdc, self.den//mdc)\n",
        "   \n",
        "  # Implementa uma função para verificar se duas frações são iguais\n",
        "  def __eq__(self, other):\n",
        "\t  f1 = self.simplifica()\n",
        "\t  f2 = other.simplifica()\n",
        "\t  return ((f1.num == f2.num) and (f1.den == f2.den))\n",
        "\n",
        "f = Fracao(10, 15)\n",
        "print(f)\n",
        "g = Fracao(2, 3)\n",
        "print(g)\n",
        "\n",
        "print(f == g)\n",
        "\n",
        "h = Fracao(1, 2)\n",
        "\n",
        "print(f == h)"
      ],
      "metadata": {
        "colab": {
          "base_uri": "https://localhost:8080/"
        },
        "id": "V7C-bWAeqIaX",
        "outputId": "c96ec393-1c68-4c83-a4bd-2d4489e7ba40"
      },
      "execution_count": null,
      "outputs": [
        {
          "output_type": "stream",
          "name": "stdout",
          "text": [
            "10/15\n",
            "2/3\n",
            "True\n",
            "False\n"
          ]
        }
      ]
    },
    {
      "cell_type": "markdown",
      "source": [
        "Podemos continuar criando métodos para operar sobre frações, como por exemplo, subtração de duas frações, inverter uma fração, elevar uma fração a uma potência, calcular a raiz quadrada de uma fração, racionalizar uma fração (tornar o denominador inteiro), etc. Não iremos fazer isso aqui, mas aos interessados, é um bom exercício para praticar a programação orientada a objetos na linguagem Python.\n",
        "\n",
        "Link para vídeo: https://www.youtube.com/watch?v=r6T31HquBj0&list=PL7OlISixQYm6lhuuNEadZ_ua4qCVl6zH7&index=15\n",
        "\n",
        "\n",
        "Antes de passarmos para o próximo exemplo, uma observação importante: no exemplo anterior, nada impede que alguém acesse as variáveis internas da classe (num e den) de maneira direta, pois por padrão essas informações são públicas em Python.\n",
        "\n",
        "Se desejarmos torná-las privadas, ou seja, elas só podem ser acessadas diretamente a partir de um método interno a classe, devemos adicionar o prefixo __ (dois underscores antes do nome da variável).\n",
        "\n",
        "Ao deixar todos os atributos de um objeto públicos, eles ficam vulneráveis a acessos de fora, no sentido de que manter a consistência interna dos dados torna-se bem mais complicado. \n",
        "\n",
        "No exemplo a seguir, adotaremos atributos privados. Para isso, devemos criar métodos get e set, para serem interfaces que permitem ao desenvolvedor acessar as variáveis privadas para leitura (get) e escrita (set).\n",
        "\n",
        "O programador pode assim controlar quais tipos de valores podem ser atribuídos as variáveis internas, o que é útil para evitar bugs e problemas indesejados no futuro.\n",
        "\n",
        "Ex: Implemente uma classe em Python para representar uma equação do segundo grau. Ela deve ter como atributos três números reais - a, b e c - que denotam os coeficientes da equação quadrática, delta, x1 e x2. Inicialmente, delta, x1 e x2 recebem o valor nan (que significa Not a Number).\n"
      ],
      "metadata": {
        "id": "PNNukAY6qzlf"
      }
    },
    {
      "cell_type": "code",
      "source": [
        "from math import sqrt\n",
        "from math import isnan\n",
        "\n",
        "class Equacao_Quadratica:\n",
        "\n",
        "\t# Construtor (usado para instanciar novos objetos)\n",
        "\tdef __init__(self, a, b, c):\n",
        "\t\t# __ indica que variável é privada (só visível dentro da classe)\n",
        "\t\tself.__a = float(a) \n",
        "\t\tself.__b = float(b)\n",
        "\t\tself.__c = float(c)\n",
        "\t\tself.__delta = float('nan')\n",
        "\t\tself.__x1 = float('nan')\n",
        "\t\tself.__x2 = float('nan')\n",
        "\n",
        "\t# Obtém valor de a\n",
        "\tdef getA(self):\n",
        "\t\treturn self.__a\n",
        "\n",
        "\t# Obtém valor de b\n",
        "\tdef getB(self):\n",
        "\t\treturn self.__b\n",
        "\n",
        "\t# Obtém valor de c\n",
        "\tdef getC(self):\n",
        "\t\treturn self.__c\n",
        "\n",
        "\t# Obtém valor de delta\n",
        "\tdef getDelta(self):\n",
        "\t\treturn self.__delta\n",
        "\n",
        "\t# Atribui valor para a\n",
        "\tdef setA(self, a):\n",
        "\t\tself.__a = float(a)\n",
        "\n",
        "\t# Atribui valor para b\n",
        "\tdef setB(self, b):\n",
        "\t\tself.__b = float(b)\n",
        "\n",
        "\t# Atribui valor para c\n",
        "\tdef setC(self, c):\n",
        "\t\tself.__c = float(c)\n",
        "\t\n",
        "\t# Retorna string para imprimir equação com comando print\n",
        "\tdef __str__(self):\n",
        "\t\treturn str(self.__a)+'x^2 + '+str(self.__b)+'x +'+ str(self.__c)\n",
        "\n",
        "\t# Verifica se é equação do segundo grau (a não é zero)\n",
        "\tdef eh_quadratica(self):\n",
        "\t\tif self.__a != 0:\n",
        "\t\t\treturn True\n",
        "\n",
        "\t# Calcula o valor de delta\n",
        "\tdef calcula_delta(self):\n",
        "\t\tself.__delta = self.__b**2 - 4 * self.__a * self.__c\n",
        "\n",
        "\t# Raíz real: verifica se a equação possui raízes reais\n",
        "\tdef raiz_real(self):\n",
        "\t\tif self.__delta >= 0:\n",
        "\t\t\treturn True\n",
        "\n",
        "\t# Resolve equação do 2o grau\n",
        "\tdef resolve(self):\n",
        "\t\t# Copiando variaveis para código menor\n",
        "\t\ta = self.__a\n",
        "\t\tb = self.__b\n",
        "\t\t# Verifica se é equação quadrática\n",
        "\t\tif self.eh_quadratica():\n",
        "\t\t\tself.calcula_delta()\n",
        "\t\t\tdelta = self.__delta\t\n",
        "\t\t\t# Verifica se as raízes são reais\n",
        "\t\t\tif self.raiz_real():\n",
        "\t\t\t\tself.__x1 = (-b-sqrt(delta))/(2*a)\n",
        "\t\t\t\tself.__x2 = (-b+sqrt(delta))/(2*a)\n",
        "\t\t\t\treturn (self.__x1, self.__x2)\n",
        "\t\t\telse:\n",
        "\t\t\t\tprint('A equação não admite raízes reais')\n",
        "\t\telse:\n",
        "\t\t\tprint('A equação não é do segundo grau (coef. a = 0)')\n",
        "\n",
        "# Esse comando diz ao interpretador se estamos executando o script\n",
        "# Se for uma execução, ele entra aqui e prossegue\n",
        "# Caso contrário, se eu incluo esse arquivo usando import, ele ignora\n",
        "if __name__ == '__main__':\n",
        "\t# Cria equação do segundo grau\n",
        "\tequacao = Equacao_Quadratica(1, -12, 10)\n",
        "\t# Note que se tentarmos acessar o valor de a diretamente\n",
        "\t# ocasionará um erro, pois variável é privada\n",
        "\t# print(equacao.__a)\n",
        "\t# Imprime na tela\n",
        "\tprint('Equação: ', equacao)\n",
        "\t# Resolve a equação utilizando a fórmula de Bhaskara\n",
        "\tprint('Soluções: ', equacao.resolve())"
      ],
      "metadata": {
        "colab": {
          "base_uri": "https://localhost:8080/"
        },
        "id": "27lkRy3R8mpp",
        "outputId": "e1089eb0-6dce-4c41-d7f0-5257a453da23"
      },
      "execution_count": null,
      "outputs": [
        {
          "output_type": "stream",
          "name": "stdout",
          "text": [
            "Equação:  1.0x^2 + -12.0x +10.0\n",
            "Soluções:  (0.9009804864072155, 11.099019513592784)\n"
          ]
        }
      ]
    },
    {
      "cell_type": "markdown",
      "source": [
        "Link para vídeo: https://www.youtube.com/watch?v=_cgzimGeCW4&list=PL7OlISixQYm6lhuuNEadZ_ua4qCVl6zH7&index=16\n"
      ],
      "metadata": {
        "id": "_E6ooOEzgYwM"
      }
    },
    {
      "cell_type": "markdown",
      "source": [
        "**Exercício:** Uma equação cúbica (3o grau) é definida como:\n",
        "\n",
        "$$\n",
        "ax^3 + bx^2 + cx + d = 0\n",
        "$$\n",
        "\n",
        "sendo que ela possui 3 soluções. Para obter as soluções, primeiramente devemos calcular:\n",
        "\n",
        "$$\n",
        "\\Delta_0 = b^2 - 3 a c \\\\\n",
        "\\Delta_1 = 2b^3 - 9abc + 27a^2d\n",
        "$$\n",
        "\n",
        "Em seguida, devemos calcular:\n",
        "\n",
        "$$\n",
        "C = \\sqrt[3]{\\frac{\\Delta_1 \\pm \\sqrt{\\Delta_1^2 - 4\\Delta_0^3}}{2}}\n",
        "$$\n",
        "\n",
        "onde a escolha pelo mais ou menos na equação é arbitrária. As soluções são dadas por:\n",
        "\n",
        "$$\n",
        "x_k = -\\frac{1}{3a}\\left( b + \\xi^k C + \\frac{\\Delta_0}{\\xi^k C} \\right) \\qquad \\text{for } \\qquad k = 0, 1, 2\n",
        "$$\n",
        "\n",
        "onde $\\xi$ é a raiz cúbica primitiva unitária, definida como:\n",
        "\n",
        "$$\n",
        "\\xi = \\frac{-1 + \\sqrt{-3}}{2}\n",
        "$$\n",
        "\n",
        "\n"
      ],
      "metadata": {
        "id": "DjQgqPb0HCcK"
      }
    },
    {
      "cell_type": "code",
      "source": [
        "from math import sqrt\n",
        "\n",
        "class Equacao_Cubica:\n",
        "\n",
        "  def __init__(self, a, b, c, d):\n",
        "    self.a = a\n",
        "    self.b = b\n",
        "    self.c = c\n",
        "    self.d = d\n",
        "    self.delta_0 = float('nan')\n",
        "    self.delta_1 = float('nan')\n",
        "    self.C = float('nan')\n",
        "    self.x0 = float('nan')\n",
        "    self.x1 = float('nan')\n",
        "    self.x2 = float('nan')\n",
        "\n",
        "  def __str__(self):\n",
        "    return str(self.a)+'x^3 + '+str(self.b)+'x^2 + '+ str(self.c)+'x + '+ str(self.d)\n",
        "\n",
        "  def calcula_deltas(self):\n",
        "    self.delta_0 = self.delta_0 = self.b**2 - 3*self.a*self.c\n",
        "    self.delta_1 = 2*self.b**3 - 9*self.a*self.b*self.c + 27*self.a**2*self.d\n",
        "\n",
        "  def calcula_C(self):\n",
        "    T = (self.delta_1**2 - 4*self.delta_0**3)\n",
        "    if T >= 0:\n",
        "      self.C = (self.delta_1/2 + sqrt(T)/2)**(1/3)\n",
        "    else:\n",
        "      self.C = (self.delta_1/2 + complex(0, sqrt(-T)/2))**(1/3)\n",
        "\n",
        "  def resolve(self):\n",
        "    self.calcula_deltas()\n",
        "    self.calcula_C()\n",
        "    self.x0 = (-1/(3*self.a))*(self.b + self.C + self.delta_0/self.C)\n",
        "    epson = complex(-0.5, sqrt(3)/2)\n",
        "    self.x1 = (-1/(3*self.a))*(self.b + epson*self.C + self.delta_0/(epson*self.C))\n",
        "    self.x2 = (-1/(3*self.a))*(self.b + epson**2*self.C + self.delta_0/(epson**2*self.C))\n",
        "    \n",
        "    return (self.x0, self.x1, self.x2)\n",
        "\n",
        "if __name__ == '__main__':\n",
        "  # Cria equação do segundo grau\n",
        "  #equacao = Equacao_Cubica(1, -6, 11, -6)\n",
        "  equacao = Equacao_Cubica(1, -5, -2, 24)\n",
        "  # Imprime na tela\n",
        "  print('Equação: ', equacao)\n",
        "  # Resolve a equação\n",
        "  x0, x1, x2 = equacao.resolve()\n",
        "  # Imprime resultados na tela\n",
        "  print('x0 = %.3f + %.3f i' %(x0.real, x0.imag))\n",
        "  print('x1 = %.3f + %.3f i' %(x1.real, x1.imag))\n",
        "  print('x2 = %.3f + %.3f i' %(x2.real, x2.imag))\n"
      ],
      "metadata": {
        "colab": {
          "base_uri": "https://localhost:8080/"
        },
        "id": "KWXDrHWNqYum",
        "outputId": "4eec3d2a-ef3c-45cc-ddf9-1f32fbe0e68b"
      },
      "execution_count": null,
      "outputs": [
        {
          "output_type": "stream",
          "name": "stdout",
          "text": [
            "Equação:  1x^3 + -5x^2 + -2x + 24\n",
            "x0 = -2.000 + 0.000 i\n",
            "x1 = 4.000 + 0.000 i\n",
            "x2 = 3.000 + -0.000 i\n"
          ]
        }
      ]
    },
    {
      "cell_type": "markdown",
      "source": [
        "**Os princípios da programação orientada a objetos**\n",
        "\n",
        "Na programação estruturada, os dados a serem manipulados são globais e diversas funções operam sobre eles. \n",
        "\n",
        "Na orientação a objetos, como cada objeto tem seus próprios métodos, eles são aplicados somente aos dados daquele objeto.\n",
        "\n",
        "![picture](https://drive.google.com/uc?id=1vdvQLlQBIgDB-xg57H7vLs9gv2Nr2TVp)\n",
        "\n",
        "Os quatro conceitos fundamentais da programação orientada a objetos (POO) são:\n",
        "\n",
        "1. *Abstração*: a ideia é que uma classe seja a implementação computacional de um TAD, com um conjunto de variáveis que representam o estado interno e métodos que operam sobre esses dados\n",
        "\n",
        "2. *Encapsulamento*: consiste em ocultar as variáveis que armazenam as informações internas dos objetos, tornando-as acessíveis apenas através dos métodos. Assim, cria-se uma espécie de caixa preta com a qual podemos interagir a partir de suas interfaces.\n",
        "\n",
        "3. *Herança*: é basicamente um mecanismo da POO que permite criar novas classes, mais especializadas, a partir de classes mais gerais já existentes. Essa característica é muito útil, pois promove um grande reaproveitamento de código. Por exemplo, podemos definir uma superclasse Pessoa, que possui os atributos, nome, peso, altura e data de nascimento. Em seguida, podemos criar uma subclasse Funcionário, que herda os atributos e métodos já existentes em uma pessoa, e adiciona novos atributos como cargo, salário e ano de admissão, além de métodos como receber_abono(), receber_promocao(), etc...\n",
        "\n",
        "4. *Polimorfismo*: é o princípio pelo qual duas ou mais classes derivadas da mesma superclasse podem invocar métodos que têm a mesma assinatura, mas comportamentos distintos. Em outras palavras, consiste na alteração do funcionamento interno de um método herdado de um objeto pai. Isso significa que um método com o mesmo nome em duas classes, pode ser definido de maneira diferente em cada uma delas. É a ideia da sobrecarga dos operadores que vimos no exemplo da classe Fracao, em que utilizamos o operador + e * de forma diferente do que eles funcionam com objetos da classe int ou float.\n",
        "\n",
        "Link para vídeo: https://www.youtube.com/watch?v=ieBvlKGDaLo&list=PL7OlISixQYm6lhuuNEadZ_ua4qCVl6zH7&index=17\n",
        "\n",
        "Para ilustrar os conceitos de herança e polimorfismo, veremos alguns exemplos práticos de como implementá-los em Python a seguir.\n",
        "\n",
        "Inicialmente, vamos definir uma classe CreditCard, que cria um cartão de crédito com base nos atributos: cliente, banco, conta e limite. Além disso, criamos os métodos get() para acessar as variáveis (que são privadas), além dos métodos compra, que adiciona um valor a fatura do cartão e pagamento, que remove um valor da fatura do cartão.\n",
        "\n"
      ],
      "metadata": {
        "id": "7S5UfdE5_ouN"
      }
    },
    {
      "cell_type": "code",
      "source": [
        "class CreditCard:\n",
        "\n",
        "\t# Construtor (usado para instanciar novos objetos)\n",
        "\tdef __init__(self, cliente, banco, conta, limite):\n",
        "\t\tself._cliente = cliente\n",
        "\t\tself._banco = banco\n",
        "\t\tself._conta = conta\n",
        "\t\tself._limite = limite\n",
        "\t\tself._fatura = 0\t   # Valor da fatura sempre inicia com zero\n",
        "\t\tprint('Cartão criado com sucesso')\n",
        "\n",
        "\tdef imprime_dados(self):\n",
        "\t\tprint('Cliente: %s' %self._cliente)\n",
        "\t\tprint('Banco: %s' %self._banco)\n",
        "\t\tprint('Conta: %s' %self._conta)\n",
        "\t\tprint('Limite: %s' %self._limite)\n",
        "\t\tprint()\n",
        "\n",
        "\t# Obtém cliente\n",
        "\tdef get_cliente(self):\n",
        "\t\treturn self._cliente\n",
        "\n",
        "\t# Obtém banco\n",
        "\tdef get_banco(self):\n",
        "\t\treturn self._banco\n",
        "\n",
        "\t# Obtém conta\n",
        "\tdef get_conta(self):\n",
        "\t\treturn self._conta\n",
        "\n",
        "\t# Obtém limite\n",
        "\tdef get_limite(self):\n",
        "\t\treturn self._limite\n",
        "\n",
        "\t# Obtém fatura\n",
        "\tdef get_fatura(self):\n",
        "\t\treturn self._fatura\n",
        "\n",
        "\t# Função que realiza compra (lança valor)\n",
        "\tdef compra(self, preco):\n",
        "\t\tif preco + self._fatura > self._limite:\n",
        "\t\t\tprint('Limite insuficiente')\n",
        "\t\t\treturn False\n",
        "\t\telse:\n",
        "\t\t\tself._fatura += preco\n",
        "\t\t\tprint('Compra de %.3f reais realizada' %preco)\n",
        "\t\t\treturn True\n",
        "\n",
        "\t# Função que realiza pagamento de fatura\n",
        "\tdef pagamento(self, valor):\n",
        "\t\tif valor <= self._fatura:\n",
        "\t\t\tself._fatura -= valor\n",
        "\t\t\tprint('Pagamento de %.3f reais da fatura' %valor)\n",
        "\n",
        "# Esse comando diz ao interpretador se estamos executando o script\n",
        "# Se for uma execução, ele entra aqui e prossegue\n",
        "# Caso contrário, se eu incluo esse arquivo usando import, ele ignora\n",
        "if __name__ == '__main__':\n",
        "\t# Instancia objeto e faz operações    \n",
        "\tcartao = CreditCard('Alexandre', 'BB', '11432-5', 1000)\n",
        "\tcartao.imprime_dados()\n",
        "\tprint(cartao.get_fatura())\n",
        "\tcartao.compra(250)\n",
        "\tcartao.compra(100)\n",
        "\tcartao.compra(200)\n",
        "\tprint(cartao.get_fatura())\n",
        "\tcartao.pagamento(500)\n",
        "\tprint(cartao.get_fatura())\n",
        "\tcartao.compra(2000)"
      ],
      "metadata": {
        "colab": {
          "base_uri": "https://localhost:8080/"
        },
        "id": "zPyn2Luwpgyn",
        "outputId": "4d12f575-8446-4ff4-a731-50785f6d9b86"
      },
      "execution_count": null,
      "outputs": [
        {
          "output_type": "stream",
          "name": "stdout",
          "text": [
            "Cartão criado com sucesso\n",
            "Cliente: Alexandre\n",
            "Banco: BB\n",
            "Conta: 11432-5\n",
            "Limite: 1000\n",
            "\n",
            "0\n",
            "Compra de 250.000 reais realizada\n",
            "Compra de 100.000 reais realizada\n",
            "Compra de 200.000 reais realizada\n",
            "550\n",
            "Pagamento de 500.000 reais da fatura\n",
            "50\n",
            "Limite insuficiente\n"
          ]
        }
      ]
    },
    {
      "cell_type": "markdown",
      "source": [
        "Para ilustrar o conceito de herança, iremos criar uma subclasse chamada PredatoryCreditCard, que além dos atributos originais, contém uma taxa de juros anual, além de um método adicional processa_mes(), que aplica os juros no final de cada mês. \n",
        "\n",
        "Além disso, para ilustrar o conceito de polimorfismo, o método compra será modificado para aplicar uma penalização de 10 reais sempre que o valor da compra ultrapassar o limite de 1000 reais.\n",
        "\n",
        "Note que na definição da classe CreditCard, os atributos possuem um único underscore (_) como prefixo. Isso indica ao Python, que essas informações são *protegidas* (nem públicas, nem privadas). Variáveis protegidas são visíveis não apenas dentro da classe base (superclasse), mas também dentro de todas as suas subclasses, ou seja, aquelas classes mais especializadas que herdam da superclasse. Iremos considerar juros próximos aos cobrados no Brasil, cerca de 300% ao ano!\n",
        "\n",
        "Link para vídeo: https://www.youtube.com/watch?v=2dDtu_9LP30&list=PL7OlISixQYm6lhuuNEadZ_ua4qCVl6zH7&index=18\n",
        "\n"
      ],
      "metadata": {
        "id": "IasK9RVsqXIE"
      }
    },
    {
      "cell_type": "code",
      "source": [
        "#from CreditCard import CreditCard  # Se definição da classe pai estiver em outro arquivo\n",
        "\n",
        "# Essa declaração diz que estamos herdando da superclasse CreditCard\n",
        "class PredatoryCreditCard(CreditCard):\n",
        "\n",
        "\t# Construtor (usado para instanciar novos objetos)\n",
        "\tdef __init__(self, cliente, banco, conta, limite, juros):\n",
        "\t\tsuper().__init__(cliente, banco, conta, limite)\n",
        "\t\tself._juros = juros\n",
        "\n",
        "\tdef imprime_dados(self):\n",
        "\t\tprint('Cliente: %s' %self._cliente)\n",
        "\t\tprint('Banco: %s' %self._banco)\n",
        "\t\tprint('Conta: %s' %self._conta)\n",
        "\t\tprint('Limite: %.2f' %self._limite)\n",
        "\t\tprint('Juros/ano: %.2f' %self._juros)\n",
        "\t\tprint()\n",
        "\n",
        "\t# As funções get são herdadas da superclasse\n",
        "\n",
        "\t# Função que realiza compra (lança valor)\n",
        "\tdef compra(self, preco):\n",
        "\t\tsucesso = super().compra(preco)\n",
        "\t\tif not sucesso:\n",
        "\t\t\tself._fatura += 10\n",
        "\t\t\tprint('Multa por ultrapassar limite: + R$ 10')\n",
        "\t\treturn sucesso\n",
        "\n",
        "\t# Função que aplica juros ao final do mês\n",
        "\tdef processa_mes(self):\n",
        "\t\tif self._fatura > 0:\n",
        "\t\t\tjuros_mes = (1 + self._juros/100)**(1/12)  # juros no mês\n",
        "\t\t\tself._fatura *= juros_mes\n",
        "\t\t\tprint('Fatura corrigida = %f' %self._fatura)\n",
        "\n",
        "# Esse comando diz ao interpretador se estamos executando o script\n",
        "if __name__ == '__main__':\n",
        "\t# Instancia objeto e faz operações    \n",
        "\tcartao = PredatoryCreditCard('Fulano','HSBC','99372-5', 500, 300)\n",
        "\tcartao.imprime_dados()\n",
        "\tprint(cartao.get_fatura())\n",
        "\tcartao.compra(250)\n",
        "\tcartao.compra(100)\n",
        "\tprint(cartao.get_fatura())\n",
        "\tcartao.processa_mes()\n",
        "\tcartao.get_fatura()\n",
        "\tcartao.compra(500)\n",
        "\tcartao.get_fatura()\n",
        "\tcartao.pagamento(200)\n",
        "\tprint(cartao.get_fatura())"
      ],
      "metadata": {
        "colab": {
          "base_uri": "https://localhost:8080/"
        },
        "id": "2kL8fGJFqwgz",
        "outputId": "b3f04adb-3c28-4c5f-f7d9-446f95b920cc"
      },
      "execution_count": null,
      "outputs": [
        {
          "output_type": "stream",
          "name": "stdout",
          "text": [
            "Cartão criado com sucesso\n",
            "Cliente: Fulano\n",
            "Banco: HSBC\n",
            "Conta: 99372-5\n",
            "Limite: 500.00\n",
            "Juros/ano: 300.00\n",
            "\n",
            "0\n",
            "Compra de 250.000 reais realizada\n",
            "Compra de 100.000 reais realizada\n",
            "350\n",
            "Fatura corrigida = 392.861717\n",
            "Limite insuficiente\n",
            "Multa por ultrapassar limite: + R$ 10\n",
            "Pagamento de 200.000 reais da fatura\n",
            "202.86171690828053\n"
          ]
        }
      ]
    },
    {
      "cell_type": "markdown",
      "source": [
        "Link para o ambiente de execução Google Colab: https://colab.research.google.com/drive/1uGeHfWurdBcD_cgO9642T1wrzO3ZtaFR?usp=sharing\n",
        "\n",
        "\"O maior inimigo do conhecimento não é a ignorância, mas a ilusão de ter conhecimento.\"\n",
        "-- Stephen Hawking"
      ],
      "metadata": {
        "id": "PAlAVzn4aaRA"
      }
    }
  ]
}