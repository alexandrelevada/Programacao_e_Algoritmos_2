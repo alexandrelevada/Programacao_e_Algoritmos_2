{
  "nbformat": 4,
  "nbformat_minor": 0,
  "metadata": {
    "colab": {
      "provenance": [],
      "collapsed_sections": []
    },
    "kernelspec": {
      "name": "python3",
      "display_name": "Python 3"
    },
    "language_info": {
      "name": "python"
    }
  },
  "cells": [
    {
      "cell_type": "markdown",
      "source": [
        "##**Programação e Algoritmos II**\n",
        "Prof. Alexandre Levada\n",
        "\n",
        "##**Complexidade de Algoritmos**\n",
        "\n",
        "No estudo de programação de computadores, uma característica fundamental dos algoritmos que vamos implementar em uma linguagem de programação é o seu custo computacional. \n",
        "\n",
        "Na verdade, durante a análise de complexidade de um programa, estamos interessados em duas propriedades básicas:\n",
        "\n",
        "1.   Quantidade de memória utilizada\n",
        "2.   *Tempo de execução*\n",
        "\n",
        "Problema P e dois algoritmos A1 e A2 que resolvem P, qual é melhor?\n",
        "\n",
        "Certamente, é aquele que executa mais rápido!\n",
        "\n",
        "Porém, mais rápido é relativo: computador novo x computador antigo\n",
        "\n",
        "É preciso um critério objetivo (matemático): *número de instruções a serem executadas*.\n",
        "\n",
        "Vejamos o exemplo a seguir.\n"
      ],
      "metadata": {
        "id": "_khkZC0rjlu_"
      }
    },
    {
      "cell_type": "code",
      "execution_count": null,
      "metadata": {
        "id": "pHBrEKJTjfR8",
        "colab": {
          "base_uri": "https://localhost:8080/"
        },
        "outputId": "fc246e4a-fd1d-4bcf-9300-3a24e9bd4168"
      },
      "outputs": [
        {
          "output_type": "stream",
          "name": "stdout",
          "text": [
            "(50005000, 0.0010793209075927734)\n",
            "(5000050000, 0.00952768325805664)\n",
            "(500000500000, 0.07158803939819336)\n",
            "(50000005000000, 0.7068150043487549)\n",
            "(5000000050000000, 6.851905345916748)\n",
            "(500000000500000000, 67.44953322410583)\n"
          ]
        }
      ],
      "source": [
        "import time\n",
        "\n",
        "# Função que soma os n primeiros inteiros\n",
        "def sum_of_n(n):\n",
        "\tstart = time.time()\n",
        "\tsum = 0\n",
        "\tfor i in range(1, n+1):\n",
        "\t\tsum = sum + i\n",
        "\tend = time.time()\n",
        " \n",
        "\treturn (sum, end-start)\n",
        " \n",
        "# Testa para diferentes valores de entrada\n",
        "print(sum_of_n(10000))\n",
        "print(sum_of_n(100000))\n",
        "print(sum_of_n(1000000))\n",
        "print(sum_of_n(10000000))\n",
        "print(sum_of_n(100000000))\n"
      ]
    },
    {
      "cell_type": "markdown",
      "source": [
        "Note que quanto maior a entrada (valor de n) mais demorado é a execução do script, pois o número de instruções (iterações do laço FOR) aumenta.\n",
        "\n",
        "Matematicamente, devemos construir uma função T(n), que conta o número de instruções a ser executada pelo algoritmo. Note que essa função deve ser estritamente crescente, pois se o tamanho da entrada cresce, o número de instruções não pode diminuir.\n",
        "\n",
        "**A Notação Big-O**\n",
        "\n",
        "Como não estamos interessados no caso de n pequenos, a ideia é estudar o crescimento assintótico das funções T(n). Para isso, utilizamos a notação Big-O.\n",
        "\n",
        "Vejamos o caso da função anterior: ao entrar na função temos 3 atribuições. Depois disso, o loop é executado n vezes. Ou seja, T(n) = n + 3\n",
        "\n",
        "Quando n cresce, apenas uma parte dominante da função é importante (n). O termo 3 é totalmente desprezível.\n",
        "\n",
        "Vejamos um exemplo mais elaborado."
      ],
      "metadata": {
        "id": "lvqtRMeum9l9"
      }
    },
    {
      "cell_type": "code",
      "source": [
        "import numpy as np\n",
        "\n",
        "def soma_elementos(A):\n",
        "  # Calcula a soma dos elementos de uma matriz n x n\n",
        "  soma_total = 0\n",
        "  for i in range(n):\n",
        "\t  soma_linha = 0\t\n",
        "\t  for j in range(n):\n",
        "\t\t  soma_linha = soma_linha + A[i,j]\n",
        "\t  soma_total = soma_total + soma_linha\n",
        "\n",
        "  return soma_total\n",
        "\n",
        "# Início do script\n",
        "n = int(input('Entre com o valor de n: '))\n",
        "matriz = np.random.random((n, n))\n",
        "print(matriz)\n",
        "print(soma_elementos(matriz))"
      ],
      "metadata": {
        "colab": {
          "base_uri": "https://localhost:8080/"
        },
        "id": "MSCZuQowsU4c",
        "outputId": "ffc9b4f5-6270-4f31-8f0c-d0f226e17058"
      },
      "execution_count": null,
      "outputs": [
        {
          "output_type": "stream",
          "name": "stdout",
          "text": [
            "Entre com o valor de n: 5\n",
            "[[0.68680773 0.74344303 0.45645576 0.99213934 0.4257667 ]\n",
            " [0.29395765 0.11472441 0.56738131 0.1195973  0.07080301]\n",
            " [0.06874301 0.68132629 0.86373137 0.34991135 0.37970959]\n",
            " [0.57547276 0.96624038 0.4143063  0.35250742 0.82714442]\n",
            " [0.63730381 0.92685539 0.09904289 0.13867772 0.63849281]]\n",
            "12.390541753850432\n"
          ]
        }
      ]
    },
    {
      "cell_type": "markdown",
      "source": [
        "Note que no loop mais interno (j) temos n atribuições. Assim para cada valor de i no loop mais externo, temos n + 2 operações. Como temos n possíveis valores para i, chegamos em:\n",
        "\n",
        "$$\n",
        "\\Large\n",
        "T(n) = n (n+2) + 1 = n^2 + 2n + 1\n",
        "$$\n",
        "\n",
        "Seja f(n) uma função definida para todos os inteiros maiores ou iguais a zero, tal que para uma constante c e uma constante m:\n",
        "\n",
        "$$\n",
        "\\Large\n",
        "T(n) \\leq c f(n)\n",
        "$$\n",
        "\n",
        "para todos os valores suficientemente grandes $n \\geq m$ (quando n é grande). Então dizemos que o algoritmo possui complexidade $O(f(n))$. Dessa forma, para o exemplo anterior, considere $c = 2$ e $f(n) = n^2$. Então:\n",
        "\n",
        "$$\n",
        "\\Large\n",
        "n^2 + 2n + 1 \\leq 2 n^2\n",
        "$$\n",
        "\n",
        "para todo $n > 2$, o que implica dizer que o algoritmo em questão é $O(n^2)$.\n",
        "\n",
        "A função $f(n) = n^2$ não é a única que satisfaz a desigualdade. Por exemplo, a função $g(n) = n^3$, também satisfaz. Porém, para a notação Big-O, nos interessa o limite superior mais apertado possível.\n",
        "\n",
        "![picture](https://drive.google.com/uc?id=1Yoppi2bKsnU_ETC-przBgB6aMjKIbhV1)\n",
        "\n",
        "\n",
        "As vezes, o desempenho de um algoritmo não depende apenas do tamanho da entrada, mas também dos elementos que compõem o vetor, o que nos leva a análise de três situações distintas:\n",
        "\n",
        "1. melhor caso (seria o vetor já ordenado), \n",
        "2. caso médio (valores aleatórios)\n",
        "3. pior caso (o vetor em ordem decrescente, totalmente desordenado).\n",
        "\n",
        "Em geral, realizamos as análises no caso médio ou pior caso. Costuma-se dividir os algoritmos nas seguintes classes de complexidade:\n",
        "\n",
        "O(1) - Constante\n",
        "\n",
        "O(log n) - Logarítmica\n",
        "\n",
        "O(n) - Linear\n",
        "\n",
        "O(n log n) - Log-linear\n",
        "\n",
        "O($n^2$) - Quadrática\n",
        "\n",
        "O($n^3$) - Cúbica\n",
        "\n",
        "O($2^n$) - Exponencial\n",
        "\n",
        "O($n!$) - Fatorial\n",
        "\n",
        "\n",
        "![picture](https://drive.google.com/uc?id=1sMuTiWflJpFthha8q1qDMrWRPixon9Vr)\n",
        "\n",
        "\n",
        "A base dos algoritmos que iremos analisar são estruturas de repetição. Porém, estruturas de repetição são representados matematicamente por somatórios. Sendo assim, para construirmos as funções T(n), precisaremos resolver somatórios.\n",
        "\n",
        "Resolução matemática de somatórios no vídeo:\n",
        "\n",
        "https://www.youtube.com/watch?v=EDV-ENiaCEA&list=PL7OlISixQYm6lhuuNEadZ_ua4qCVl6zH7&index=3\n",
        "\n"
      ],
      "metadata": {
        "id": "b50CwZ24vRpX"
      }
    },
    {
      "cell_type": "markdown",
      "source": [
        "**Analisando algoritmos em Python**\n",
        "\n",
        "A ideia básica é que cada comando de atribuição conta como 1 operação a ser executada, a menos quando ela está associada a uma chamada de função. Nesse caso, devemos contar como m operações, se a complexidade da função for O(m). \n",
        "\n",
        "Considere o exemplo a seguir."
      ],
      "metadata": {
        "id": "EBfomzcARkrY"
      }
    },
    {
      "cell_type": "code",
      "source": [
        "def ex2(n):\n",
        "     count = 0\n",
        "     for i in range(n):\n",
        "          count += 1\n",
        "     for j in range(n):\n",
        "          count += 1\n",
        "     return count"
      ],
      "metadata": {
        "id": "xrDpnwAoZ5Jt"
      },
      "execution_count": null,
      "outputs": []
    },
    {
      "cell_type": "markdown",
      "source": [
        "Note que temos uma atribuição inicial (1) e logo dois loops com n iterações. Cada um deles, contribui com n para o total, de modo que no total temos T(n) = 2n + 1, o que resulta em uma complexidade O(n).\n",
        "\n",
        "Considere o algoritmo a seguir."
      ],
      "metadata": {
        "id": "HAUCkt3OaHXX"
      }
    },
    {
      "cell_type": "code",
      "source": [
        "def ex3(n):\n",
        "     count = 0\n",
        "     for i in range(n):\n",
        "          for j in range(n):\n",
        "               count += 1\n",
        "     return count"
      ],
      "metadata": {
        "id": "ye4COWeOaR53"
      },
      "execution_count": null,
      "outputs": []
    },
    {
      "cell_type": "markdown",
      "source": [
        "Nesse caso, o loop interno tem n operações. Como o loop externo  é executado n vezes, e temos uma inicialização, o total de operações é $T(n) = n^2 + 1$, o que resulta em complexidade O($n^2$). \n",
        "\n",
        "Nem todos os loops aninhados possuem complexidade quadrática.Considere o algoritmo a seguir.\n",
        "\n"
      ],
      "metadata": {
        "id": "-4SBUJeFaVb-"
      }
    },
    {
      "cell_type": "code",
      "source": [
        "def ex4(n):\n",
        "     count = 0\n",
        "     for i in range(n):\n",
        "          for j in range(10):\n",
        "               count += 1\n",
        "     return count"
      ],
      "metadata": {
        "id": "5T6lpgQhaxJy"
      },
      "execution_count": null,
      "outputs": []
    },
    {
      "cell_type": "markdown",
      "source": [
        "O loop mais interno é executado 10 vezes (número constante de vezes). Sendo assim, o total de operações é T(n) = 10n + 1, o que resulta em O(n).\n",
        "\n",
        "Em alguns casos, um dos loops aninhados (em geral o mais interno) executa um número variável de vezes. Considere o algoritmo a seguir."
      ],
      "metadata": {
        "id": "zriVgH2fayfM"
      }
    },
    {
      "cell_type": "code",
      "source": [
        "def ex5(n):\n",
        "     count = 0\n",
        "     for i in range(n) :\n",
        "          for j in range(i+1) :\n",
        "               count += 1\n",
        "     return count "
      ],
      "metadata": {
        "id": "J3TzbY5VbDit"
      },
      "execution_count": null,
      "outputs": []
    },
    {
      "cell_type": "markdown",
      "source": [
        "Note que quando i = 0, o loop interno executa uma vez, quando n = 1, o loop interno executa duas vezes, quando n = 2, o loop interno executa 3 vezes, e assim sucessivamente. Assim, o número de vezes que a variável count é incrementada é igual a: 1 + 2 + 3 + 4 + … + n\n",
        "\n",
        "Resolução no vídeo:\n",
        "\n",
        "https://www.youtube.com/watch?v=8KcuGdNgMdc&list=PL7OlISixQYm6lhuuNEadZ_ua4qCVl6zH7&index=4\n"
      ],
      "metadata": {
        "id": "HxLp5kMPbF19"
      }
    },
    {
      "cell_type": "markdown",
      "source": [
        "Vejamos um outro exemplo ilustrativo.\n",
        "\n"
      ],
      "metadata": {
        "id": "iavQ0UWCoE_N"
      }
    },
    {
      "cell_type": "code",
      "source": [
        "def ex6(n):\n",
        "     count = 0\n",
        "     i = n\n",
        "     while i > 1:\n",
        "          count += 1\n",
        "          i = i // 2\t\t# divisão inteira\n",
        "     return count"
      ],
      "metadata": {
        "id": "9DWqBJJjoYst"
      },
      "execution_count": null,
      "outputs": []
    },
    {
      "cell_type": "markdown",
      "source": [
        "Essa função calcula quantas vezes o número pode ser dividido por 2. Por exemplo, considere a entrada n = 16. Em cada iteração esse valor será dividido por 2, até que atinja o zero.\n",
        "\n",
        "16 → 8 → 4 → 2 → 1\n",
        "\n",
        "A variável count termina a função valendo 4, pois 24 = 16.\n",
        "\n",
        "Se n = 25, temos:\n",
        "\n",
        "25 → 12 → 6 → 3 → 1\n",
        "\n",
        "A variável count  termina a função valendo 4, pois   24 < 25 < 25\n",
        "\n",
        "Se n = 40, temos:\n",
        "\n",
        "40 → 20 → 10 → 5 → 2 → 1\n",
        "\n",
        "A variável count  termina a função valendo 5, pois   25 < 40 < 26\n",
        "\n",
        "Portanto, o número de iterações do loop é log2 n. Dentro do loop existem duas instruções, portanto neste caso teremos:\n",
        "\n",
        "$$\n",
        "\\Large\n",
        "T(n) = 1 + 2\\lfloor log_2~n \\rfloor\n",
        "$$\n",
        "\n",
        "Portanto, a complexidade dessa função é O($log~n$).\n",
        "\n",
        "Resolução no vídeo:\n",
        "\n",
        "https://www.youtube.com/watch?v=zezYzmmswyY&list=PL7OlISixQYm6lhuuNEadZ_ua4qCVl6zH7&index=5\n",
        "\n",
        "\n",
        "Considere o seguinte exemplo ilustrativo."
      ],
      "metadata": {
        "id": "0-5TC3jGohx3"
      }
    },
    {
      "cell_type": "code",
      "source": [
        "def ex7(n):\n",
        "     count = 0\n",
        "     for i in range(n):\n",
        "          count += ex6(n)\n",
        "     return count"
      ],
      "metadata": {
        "id": "AoOCe15Vhb2O"
      },
      "execution_count": null,
      "outputs": []
    },
    {
      "cell_type": "markdown",
      "source": [
        "Note que, como a função ex6(n) tem complexidade logarítmica, e o loop tem n iterações, temos que a complexidade da função em questão é O($n~log~n$).\n",
        "\n",
        "Veremos a seguir duas funções que realizam a mesma operação: encontrar o menor elemento de uma lista. Qual delas é a mais eficiente? Porque? Justifique sua resposta com argumentos matemáticos.\n",
        "\n",
        "Resolução no vídeo: \n",
        "\n",
        "https://www.youtube.com/watch?v=CQnC_7h3H7Y&list=PL7OlISixQYm6lhuuNEadZ_ua4qCVl6zH7&index=6"
      ],
      "metadata": {
        "id": "p-nSeVO4hezW"
      }
    },
    {
      "cell_type": "code",
      "source": [
        "def menor_A(L):\t\t\t\t\t\t\n",
        "  n = len(L)\t\t\t\t\t\t\n",
        "  for i in range(n):\t\t\n",
        "    x = L[i]\t\t\t\t\n",
        "    menor = n*[0]\t\t\n",
        "    for j in range(n):\n",
        "      if x <= L[j]:\n",
        "        menor[j] = 1\t\t\t            \n",
        "    if sum(menor) == n:\t\t\t     \n",
        "      return (i, x)\n",
        "\n",
        "def menor_B(L):\n",
        "  pos = 0\n",
        "  n = len(L)\n",
        "  menor = L[pos]\n",
        "  for i in range(n):     \n",
        "    if L[i] < menor:     \n",
        "       pos = i\n",
        "       menor = L[i]\n",
        "  return (pos, menor)\t      \n",
        "\n",
        "L = [5, 3, 9, 7, 2, 1, 8, 6, 4]    \n",
        "print(menor_A(L))\n",
        "print(menor_B(L))"
      ],
      "metadata": {
        "colab": {
          "base_uri": "https://localhost:8080/"
        },
        "id": "8E2kkk6SiArR",
        "outputId": "fea45032-33f4-47fd-8578-f72e3c297106"
      },
      "execution_count": null,
      "outputs": [
        {
          "output_type": "stream",
          "name": "stdout",
          "text": [
            "(5, 1)\n",
            "(5, 1)\n"
          ]
        }
      ]
    },
    {
      "cell_type": "markdown",
      "source": [
        "**O Problema da Torre de Hanói**\n",
        "\n",
        "Imagine que temos 3 hastes (A, B e C) e inicialmente n discos de tamanhos distintos empilhados na haste A, de modo que discos maiores não podem ser colocados acima de discos menores.\n",
        "\n",
        "![picture](https://drive.google.com/uc?id=1QOEXPW5iDV4J3ULuzEUbyZbtmiNsL_x9)\n",
        "\n",
        "O objetivo consiste em mover todos os discos para uma outra haste. Há apenas duas regras: \n",
        "\n",
        "1. Podemos mover apenas um disco por vez\n",
        "2. Não pode haver um disco menor embaixo de um disco maior\n",
        "\n",
        "Vejamos o que ocorre para diferentes valores de n (número de discos).\n",
        "\n",
        "Se n = 1, basta 1 movimento: \n",
        "    *Move A, B*\n",
        "\n",
        "Se n = 2, são necessários 3 movimentos: \t\n",
        "    \n",
        "*Move A, B*\n",
        "\n",
        "*Move A, C*\n",
        "\t\t\n",
        "*Move B, C*\n",
        "\n",
        "Se n = 3, são necessários 7 movimentos:\n",
        "\n",
        "*Move A, B*\n",
        "\n",
        "*Move A, C*\n",
        "\n",
        "*Move B, C*\n",
        "\n",
        "*Move A, B*\n",
        "\n",
        "*Move C, A*\n",
        "\n",
        "*Move C, B*\n",
        "\n",
        "*Move A, B*\n",
        "\n",
        "Utilizando uma abordagem recursiva, note que se n = 4, são necessários 15 movimentos: temos 7 movimentos para os 3 menores discos, 1 movimento para o maior e mais 7 movimentos para os 3 menores, o que totaliza 7 + 1 + 7 = 15 movimentos\n",
        "\n",
        "Se n= 5, teremos 15 + 1 + 15 = 31 movimentos.\n",
        "\n",
        "\n",
        "---\n",
        "\n",
        "\n",
        "Em resumo, temos o seguinte algoritmo recursivo\n",
        "\n",
        "1. Para mover n – 1 discos menores: $T_{n-1}$ movimentos\n",
        "\n",
        "2. Para mover o maior disco: 1 movimento\n",
        "\n",
        "3. Para mover de volta os n – 1 discos menores: $T_{n-1}$ movimentos\n",
        "\n",
        "Assim, a recorrência fica definida como:\n",
        "\n",
        "$$\n",
        "\\Large\n",
        "T_1 = 1 \\\\\n",
        "\\Large\n",
        "T_{n} = 2 T_{n-1} + 1\n",
        "$$\n",
        "\n",
        "Pergunta: Como calcular uma função T(n) dada a recorrência?\n",
        "\n",
        "Resolução matemática no vídeo:\n",
        "\n",
        "https://www.youtube.com/watch?v=AKowhHrXj20&list=PL7OlISixQYm6lhuuNEadZ_ua4qCVl6zH7&index=7 \n",
        "\n",
        "---\n",
        "\n",
        "**Busca sequencial**\n",
        "\n",
        "Uma tarefa fundamental na computação consiste em dado uma lista e um valor qualquer, verificar se aquele valor pertence a lista ou não. Essa funcionalidade é usada por exemplo em qualquer sistema que exige o login de um usuário (para verificar se o CPF da pessoa está cadastrada). Faça uma função que, dada uma lista de inteiros L e um número inteiro x, verifique se x está ou não em L. A função deve retornar o índice do elemento (posição) caso ele pertença a ele ou o valor lógico False se ele não pertence a L. (isso equivale ao operador in de Python). O código em Python a seguir implementa a busca sequencial."
      ],
      "metadata": {
        "id": "QVfV9_N27YkF"
      }
    },
    {
      "cell_type": "code",
      "source": [
        "def busca_sequencial(L, x): \n",
        "\tachou = False \n",
        "\ti = 0 \n",
        "\twhile i < len(L) and not achou: \n",
        "\t\tif (L[i] == x): \n",
        "\t\t\tachou = True \n",
        "\t\t\tpos = i\t \n",
        "\t\telse: \n",
        "\t\t\ti = i + 1\t\t\n",
        " \n",
        "\tif achou: \n",
        "\t\treturn pos \n",
        "\telse: \n",
        "\t\treturn achou\n",
        "\n",
        "########################\n",
        "# Início do script\n",
        "########################\n",
        "L = [5, 3, 7, 9, 1, 8, 2, 4]\n",
        "print(busca_sequencial(L, 1))\n",
        "print(busca_sequencial(L, 99))\n"
      ],
      "metadata": {
        "colab": {
          "base_uri": "https://localhost:8080/"
        },
        "id": "snjALsqdAAX_",
        "outputId": "94a1feee-e0c1-48c0-c16d-3af72c0efdeb"
      },
      "execution_count": null,
      "outputs": [
        {
          "output_type": "stream",
          "name": "stdout",
          "text": [
            "4\n",
            "False\n"
          ]
        }
      ]
    },
    {
      "cell_type": "markdown",
      "source": [
        "Vamos analisar a complexidade da busca sequencial no pior caso, onde o elemento a ser buscado x está na última posição da lista ou não faz parte do conjunto.\n",
        "\n",
        "Note que o loop entra n-1 vezes no else e exatamente 1 vez no if, o que nos leva a:\n",
        "\n",
        "$$\n",
        "\\Large\n",
        "T(n) = 2 + (n-1) + 2 = n + 3\n",
        "$$\n",
        "\n",
        "o que resulta em complexidade O(n).\n",
        "\n",
        "---\n",
        "\n",
        "**Busca Binária**\n",
        "\n",
        "A busca binária requer uma lista ordenada de elementos para funcionar. Ela imita o processo que nós utilizamos para procurar uma palavra no dicionário. Como as palavras estão ordenadas, a ideia é abrir o dicionário mais ou menos no meio. Se a palavra que desejamos inicia com uma letra que vem antes, então nós já descartamos toda a metade final do dicionário (não precisamos procurar lá, pois é certeza que a palavra estará na primeira metade. \n",
        "\n",
        "No algoritmo, temos uma lista com números ordenados. Basicamente, a ideia consiste em acessar o elemento do meio da lista. Se ele for o que desejamos buscar, a busca se encerra. Caso contrário, se o que desejamos é menor que o elemento do meio, a busca é realizada na metade a esquerda. Senão, a busca é realizada na metade a direita. A seguir mostramos um script em Python que implementa a versão recursiva da busca binária."
      ],
      "metadata": {
        "id": "A8wrSMK0EF4H"
      }
    },
    {
      "cell_type": "code",
      "source": [
        "# Função recursiva (ela chama a si própria)\n",
        "def busca_binaria(L, x, ini, fim):\n",
        "    meio = (ini + fim) // 2\n",
        "    if ini > fim:\n",
        "        return -1   \t\t# elemento não encontrado\n",
        "    elif L[meio] == x:\n",
        "        return meio\n",
        "    elif L[meio] > x:\n",
        "        print('Buscar na metade inferior')\n",
        "        return busca_binaria(L, x, ini, meio-1)\n",
        "    else:\n",
        "        print('Buscar na metade superior')\n",
        "        return busca_binaria(L, x, meio+1, fim)\n",
        "\n",
        "########################\n",
        "# Início do script\n",
        "########################\n",
        "L = [5, 3, 7, 9, 1, 8, 2, 4]\n",
        "# Ordena lista\n",
        "L.sort()\n",
        "# Realiza busca\n",
        "print(busca_binaria(L, 1, 0, len(L)-1))\n",
        "print(busca_binaria(L, 99, 0, len(L)-1))"
      ],
      "metadata": {
        "colab": {
          "base_uri": "https://localhost:8080/"
        },
        "id": "sY0WEh10HAyK",
        "outputId": "a2c5b597-89ff-4983-9faf-66a1231ea441"
      },
      "execution_count": null,
      "outputs": [
        {
          "output_type": "stream",
          "name": "stdout",
          "text": [
            "Buscar na metade inferior\n",
            "Buscar na metade inferior\n",
            "0\n",
            "Buscar na metade superior\n",
            "Buscar na metade superior\n",
            "Buscar na metade superior\n",
            "Buscar na metade superior\n",
            "-1\n"
          ]
        }
      ]
    },
    {
      "cell_type": "markdown",
      "source": [
        "\n",
        "Uma comparação enter o pior caso da busca sequencial e da busca binária, mostra a significativa diferença entre os métodos. Na busca sequencial, faremos n acessos para encontrar o valor procurado na última posição. Costuma-se dizer que o custo é O(n) (é da ordem de n, ou seja, linear). Na busca binária, como a cada acesso descartamos metade das amostras restantes. Supondo, por motivos de simplificação, que o tamanho do vetor n é uma potência de 2, ou seja, n = 2m, note que:\n",
        "\n",
        "m = 1 \t\t→ \tn/2 descartados\n",
        "\n",
        "m = 2 \t\t→ \tn/4 descartados\n",
        "\n",
        "m = 3 \t\t→\t  n/8 descartados\n",
        "\n",
        "m = 4 \t\t→ \tn/16 descartados\n",
        "\n",
        "e assim sucessivamente. É possível notar um padrão? Quantos acessos devemos realizar para que descartemos todo o vetor? Devemos ter n / 2m = 1, o que  significa ter n = 2m , o que implica em m = log2 n, ou seja, temos um custo O(log2 n) o que é bem menor do que n quando n cresce muito, pois a função log(n) tem uma curva de crescimento bem mais lento do que a função linear n. Veja que a derivada (taxa de variação) da função linear n é constante e igual a 1 sempre. A derivada da função log(n) é 1/n, ou seja, quando n cresce, a taxa de variação, que é o que controla o crescimento da função, decresce. Na prática, isso significa que em uma lista com 1024 elementos, a busca sequencial fará no pior caso 1023 acessos até encontrar o elemento desejado. Na busca binária, serão necessários apenas log2 1024 = 10 acessos, o que corresponde a aproximadamente 1% do necessário na busca sequencial! É uma ganho muito grande. Porém, na busca binária precisamos gastar um tempo para ordenar a lista! \n",
        "\n",
        "Discussão no vídeo:\n",
        "https://www.youtube.com/watch?v=41N7iaLsUZQ&list=PL7OlISixQYm6lhuuNEadZ_ua4qCVl6zH7&index=8\n",
        "\n",
        "\n",
        "Para isso precisaremos de algoritmos de ordenação, o que é o assunto da nossa próxima aula. \n",
        "\n",
        "\"You are a piece of the puzzle of someone else's life. You may never know where you fit, but others will fill the holes in their lives with pieces of you.\" (Bonnie Arbon)"
      ],
      "metadata": {
        "id": "IxmTEgMhJ4nK"
      }
    }
  ]
}